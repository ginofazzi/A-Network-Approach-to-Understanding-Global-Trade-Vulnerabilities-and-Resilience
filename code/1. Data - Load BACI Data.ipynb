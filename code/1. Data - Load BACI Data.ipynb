{
 "cells": [
  {
   "cell_type": "code",
   "execution_count": 1,
   "metadata": {},
   "outputs": [],
   "source": [
    "import pandas as pd\n",
    "from utils import *"
   ]
  },
  {
   "cell_type": "markdown",
   "metadata": {},
   "source": [
    "# BACI data\n",
    "\n",
    "BACI provides data on bilateral trade flows for 200 countries at the product level (5000 products). Products correspond to the \"Harmonized System\" nomenclature (6 digit code).\n",
    "\n",
    "Source: https://www.cepii.fr/CEPII/en/bdd_modele/bdd_modele_item.asp?id=37"
   ]
  },
  {
   "cell_type": "markdown",
   "metadata": {},
   "source": [
    "### Load data\n",
    "\n",
    "We load the data, paying special attention to the \"k\" column (product ID), that contains the 6 digits code. We load this as a string to preserve the leading zeros.\n",
    "\n",
    "(From README file)\n",
    "Content:\n",
    "\n",
    "Trade flows at the year - exporter - importer - product level.\n",
    "\n",
    "Products in Harmonized System 6-digit nomenclature.\n",
    "\n",
    "Values in thousand USD and quantities in metric tons.\n",
    "\n",
    "List of Variables:\n",
    "- t: year\n",
    "- i: exporter\n",
    "- j: importer\n",
    "- k: product\n",
    "- v: value\n",
    "- q: quantity"
   ]
  },
  {
   "cell_type": "code",
   "execution_count": 3,
   "metadata": {},
   "outputs": [],
   "source": [
    "# More human-readable column names\n",
    "colnames = {\"t\": \"year\", \"i\": \"exporter\", \"j\": \"importer\", \"k\": \"product_id\", \"v\": \"export_value\", \"q\": \"qty\"}\n",
    "\n",
    "# Load the data for each year and rename the columns\n",
    "for year in range(2012, 2024):\n",
    "    df = pd.read_csv(f\"{data_paths['baci']}/BACI_HS12_Y{year}_V202501.csv\", dtype={\"k\": str})\n",
    "    df.rename(columns=colnames, inplace=True) # Rename columns for easiness\n",
    "    #df.to_csv(f\"../data/BACI_HS12_V202501/BACI_HS12_Y{year}_V202501.csv\", index=False) # Re-write"
   ]
  }
 ],
 "metadata": {
  "kernelspec": {
   "display_name": "thesis",
   "language": "python",
   "name": "python3"
  },
  "language_info": {
   "codemirror_mode": {
    "name": "ipython",
    "version": 3
   },
   "file_extension": ".py",
   "mimetype": "text/x-python",
   "name": "python",
   "nbconvert_exporter": "python",
   "pygments_lexer": "ipython3",
   "version": "3.9.21"
  }
 },
 "nbformat": 4,
 "nbformat_minor": 2
}
