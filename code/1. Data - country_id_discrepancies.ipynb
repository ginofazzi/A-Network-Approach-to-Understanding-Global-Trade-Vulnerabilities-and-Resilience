{
 "cells": [
  {
   "cell_type": "code",
   "execution_count": 2,
   "metadata": {},
   "outputs": [],
   "source": [
    "import pandas as pd\n",
    "import os\n",
    "from utils import *"
   ]
  },
  {
   "cell_type": "code",
   "execution_count": 3,
   "metadata": {},
   "outputs": [],
   "source": [
    "baci = pd.read_csv(f\"{data_paths['baci']}/BACI_HS12_Y2012_V202501.csv\")\n",
    "trustworthiness_scores = pd.read_csv(f\"{data_paths['graphs_data']}/trustworthiness_scores.csv\", dtype={\"cmd\": str})\n",
    "atlas_df = pd.concat([pd.read_stata(f\"{data_paths['atlas']}/hs12_country_country_product_year_4_2012_2016.dta\"),\n",
    "                pd.read_stata(f\"{data_paths['atlas']}/hs12_country_country_product_year_4_2017_2021.dta\"),\n",
    "                pd.read_stata(f\"{data_paths['atlas']}/hs12_country_country_product_year_4_2022.dta\")])\n",
    "atlas_countries = pd.read_csv(f\"{data_paths['atlas']}/location_country.csv\", encoding=\"latin\")\n",
    "reporters = pd.read_csv(f\"{data_paths['uncomtrade']}/reporters.csv\")"
   ]
  },
  {
   "cell_type": "markdown",
   "metadata": {},
   "source": [
    "Codes in UN Comtrade not matching Atlas"
   ]
  },
  {
   "cell_type": "code",
   "execution_count": 4,
   "metadata": {},
   "outputs": [
    {
     "data": {
      "text/plain": [
       "array([886, 975,  58, 866, 588, 230,  97, 280, 251, 699, 532, 579, 490,\n",
       "       590, 459, 717, 461, 658, 711, 736, 757, 835, 842, 841, 836],\n",
       "      dtype=int64)"
      ]
     },
     "execution_count": 4,
     "metadata": {},
     "output_type": "execute_result"
    }
   ],
   "source": [
    "trustworthiness_scores[~trustworthiness_scores.country_id.isin(atlas_countries.country_id)][\"country_id\"].unique()"
   ]
  },
  {
   "cell_type": "code",
   "execution_count": 5,
   "metadata": {},
   "outputs": [
    {
     "data": {
      "text/plain": [
       "array([886, 975,  58, 866, 588, 230,  97, 280, 532, 490, 590, 459, 717,\n",
       "       461, 658, 711, 736, 835, 841, 836], dtype=int64)"
      ]
     },
     "execution_count": 5,
     "metadata": {},
     "output_type": "execute_result"
    }
   ],
   "source": [
    "trustworthiness_scores.loc[trustworthiness_scores.country_id == 251, [\"country_id\"]] = 250 # France\n",
    "trustworthiness_scores.loc[trustworthiness_scores.country_id == 579, [\"country_id\"]] = 578 # Norway\n",
    "trustworthiness_scores.loc[trustworthiness_scores.country_id == 699, [\"country_id\"]] = 356 # India\n",
    "trustworthiness_scores.loc[trustworthiness_scores.country_id == 757, [\"country_id\"]] = 756 # Switzerland\n",
    "trustworthiness_scores.loc[trustworthiness_scores.country_id == 842, [\"country_id\"]] = 840 # USA\n",
    "## 490 is ASIA Others - Not present in Atlas\n",
    "trustworthiness_scores[~trustworthiness_scores.country_id.isin(atlas_countries.country_id)][\"country_id\"].unique()"
   ]
  },
  {
   "cell_type": "code",
   "execution_count": null,
   "metadata": {},
   "outputs": [],
   "source": [
    "#trustworthiness_scores.to_csv(\"trustworthiness_scores.csv\", index=False)"
   ]
  },
  {
   "cell_type": "markdown",
   "metadata": {},
   "source": [
    "Codes in BACI not matching codes in ATLAS"
   ]
  },
  {
   "cell_type": "code",
   "execution_count": 9,
   "metadata": {},
   "outputs": [
    {
     "data": {
      "text/plain": [
       "array([251, 490, 579, 699, 757, 842], dtype=int64)"
      ]
     },
     "execution_count": 9,
     "metadata": {},
     "output_type": "execute_result"
    }
   ],
   "source": [
    "baci[~baci.exporter.isin(atlas_countries.country_id)][\"exporter\"].unique()"
   ]
  },
  {
   "cell_type": "code",
   "execution_count": 11,
   "metadata": {},
   "outputs": [
    {
     "name": "stdout",
     "output_type": "stream",
     "text": [
      "BACI_HS12_Y2012_V202501.csv\n",
      "BACI_HS12_Y2013_V202501.csv\n",
      "BACI_HS12_Y2014_V202501.csv\n",
      "BACI_HS12_Y2015_V202501.csv\n",
      "BACI_HS12_Y2016_V202501.csv\n",
      "BACI_HS12_Y2017_V202501.csv\n",
      "BACI_HS12_Y2018_V202501.csv\n",
      "BACI_HS12_Y2019_V202501.csv\n",
      "BACI_HS12_Y2020_V202501.csv\n",
      "BACI_HS12_Y2021_V202501.csv\n",
      "BACI_HS12_Y2022_V202501.csv\n",
      "BACI_HS12_Y2023_V202501.csv\n",
      "country_codes_V202501.csv\n"
     ]
    },
    {
     "ename": "AttributeError",
     "evalue": "'DataFrame' object has no attribute 'exporter'",
     "output_type": "error",
     "traceback": [
      "\u001b[1;31m---------------------------------------------------------------------------\u001b[0m",
      "\u001b[1;31mAttributeError\u001b[0m                            Traceback (most recent call last)",
      "\u001b[1;32m~\\AppData\\Local\\Temp\\ipykernel_14712\\410575071.py\u001b[0m in \u001b[0;36m?\u001b[1;34m()\u001b[0m\n\u001b[0;32m      3\u001b[0m     \u001b[0m_\u001b[0m \u001b[1;33m=\u001b[0m \u001b[0mpd\u001b[0m\u001b[1;33m.\u001b[0m\u001b[0mread_csv\u001b[0m\u001b[1;33m(\u001b[0m\u001b[1;34mf\"{data_paths['baci']}/\"\u001b[0m \u001b[1;33m+\u001b[0m \u001b[0mfile\u001b[0m\u001b[1;33m,\u001b[0m \u001b[0mdtype\u001b[0m\u001b[1;33m=\u001b[0m\u001b[1;33m{\u001b[0m\u001b[1;34m\"k\"\u001b[0m\u001b[1;33m:\u001b[0m \u001b[0mstr\u001b[0m\u001b[1;33m}\u001b[0m\u001b[1;33m)\u001b[0m\u001b[1;33m\u001b[0m\u001b[1;33m\u001b[0m\u001b[0m\n\u001b[0;32m      4\u001b[0m     \u001b[1;32mif\u001b[0m \u001b[1;34m\"year\"\u001b[0m \u001b[1;32min\u001b[0m \u001b[0m_\u001b[0m\u001b[1;33m.\u001b[0m\u001b[0mcolumns\u001b[0m\u001b[1;33m:\u001b[0m\u001b[1;33m\u001b[0m\u001b[1;33m\u001b[0m\u001b[0m\n\u001b[0;32m      5\u001b[0m         \u001b[1;32mcontinue\u001b[0m\u001b[1;33m\u001b[0m\u001b[1;33m\u001b[0m\u001b[0m\n\u001b[0;32m      6\u001b[0m     \u001b[0m_\u001b[0m\u001b[1;33m.\u001b[0m\u001b[0mrename\u001b[0m\u001b[1;33m(\u001b[0m\u001b[0mcolumns\u001b[0m\u001b[1;33m=\u001b[0m\u001b[1;33m{\u001b[0m\u001b[1;34m\"t\"\u001b[0m\u001b[1;33m:\u001b[0m \u001b[1;34m\"year\"\u001b[0m\u001b[1;33m,\u001b[0m \u001b[1;34m\"k\"\u001b[0m\u001b[1;33m:\u001b[0m \u001b[1;34m\"product_id\"\u001b[0m\u001b[1;33m,\u001b[0m \u001b[1;34m\"i\"\u001b[0m\u001b[1;33m:\u001b[0m \u001b[1;34m\"exporter\"\u001b[0m\u001b[1;33m,\u001b[0m \u001b[1;34m\"j\"\u001b[0m\u001b[1;33m:\u001b[0m \u001b[1;34m\"importer\"\u001b[0m\u001b[1;33m,\u001b[0m \u001b[1;34m\"v\"\u001b[0m\u001b[1;33m:\u001b[0m \u001b[1;34m\"export_value\"\u001b[0m\u001b[1;33m,\u001b[0m \u001b[1;34m\"q\"\u001b[0m\u001b[1;33m:\u001b[0m \u001b[1;34m\"qty\"\u001b[0m\u001b[1;33m}\u001b[0m\u001b[1;33m,\u001b[0m \u001b[0minplace\u001b[0m\u001b[1;33m=\u001b[0m\u001b[1;32mTrue\u001b[0m\u001b[1;33m)\u001b[0m\u001b[1;33m\u001b[0m\u001b[1;33m\u001b[0m\u001b[0m\n\u001b[1;32m----> 7\u001b[1;33m     \u001b[0m_\u001b[0m\u001b[1;33m.\u001b[0m\u001b[0mloc\u001b[0m\u001b[1;33m[\u001b[0m\u001b[0m_\u001b[0m\u001b[1;33m.\u001b[0m\u001b[0mexporter\u001b[0m \u001b[1;33m==\u001b[0m \u001b[1;36m251\u001b[0m\u001b[1;33m,\u001b[0m \u001b[1;33m[\u001b[0m\u001b[1;34m\"exporter\"\u001b[0m\u001b[1;33m]\u001b[0m\u001b[1;33m]\u001b[0m \u001b[1;33m=\u001b[0m \u001b[1;36m250\u001b[0m \u001b[1;31m# France\u001b[0m\u001b[1;33m\u001b[0m\u001b[1;33m\u001b[0m\u001b[0m\n\u001b[0m\u001b[0;32m      8\u001b[0m     \u001b[0m_\u001b[0m\u001b[1;33m.\u001b[0m\u001b[0mloc\u001b[0m\u001b[1;33m[\u001b[0m\u001b[0m_\u001b[0m\u001b[1;33m.\u001b[0m\u001b[0mexporter\u001b[0m \u001b[1;33m==\u001b[0m \u001b[1;36m579\u001b[0m\u001b[1;33m,\u001b[0m \u001b[1;33m[\u001b[0m\u001b[1;34m\"exporter\"\u001b[0m\u001b[1;33m]\u001b[0m\u001b[1;33m]\u001b[0m \u001b[1;33m=\u001b[0m \u001b[1;36m578\u001b[0m \u001b[1;31m# Norway\u001b[0m\u001b[1;33m\u001b[0m\u001b[1;33m\u001b[0m\u001b[0m\n\u001b[0;32m      9\u001b[0m     \u001b[0m_\u001b[0m\u001b[1;33m.\u001b[0m\u001b[0mloc\u001b[0m\u001b[1;33m[\u001b[0m\u001b[0m_\u001b[0m\u001b[1;33m.\u001b[0m\u001b[0mexporter\u001b[0m \u001b[1;33m==\u001b[0m \u001b[1;36m699\u001b[0m\u001b[1;33m,\u001b[0m \u001b[1;33m[\u001b[0m\u001b[1;34m\"exporter\"\u001b[0m\u001b[1;33m]\u001b[0m\u001b[1;33m]\u001b[0m \u001b[1;33m=\u001b[0m \u001b[1;36m356\u001b[0m \u001b[1;31m# India\u001b[0m\u001b[1;33m\u001b[0m\u001b[1;33m\u001b[0m\u001b[0m\n\u001b[0;32m     10\u001b[0m     \u001b[0m_\u001b[0m\u001b[1;33m.\u001b[0m\u001b[0mloc\u001b[0m\u001b[1;33m[\u001b[0m\u001b[0m_\u001b[0m\u001b[1;33m.\u001b[0m\u001b[0mexporter\u001b[0m \u001b[1;33m==\u001b[0m \u001b[1;36m757\u001b[0m\u001b[1;33m,\u001b[0m \u001b[1;33m[\u001b[0m\u001b[1;34m\"exporter\"\u001b[0m\u001b[1;33m]\u001b[0m\u001b[1;33m]\u001b[0m \u001b[1;33m=\u001b[0m \u001b[1;36m756\u001b[0m \u001b[1;31m# Switzerland\u001b[0m\u001b[1;33m\u001b[0m\u001b[1;33m\u001b[0m\u001b[0m\n",
      "\u001b[1;32mc:\\Users\\ginof\\anaconda3\\envs\\thesis\\lib\\site-packages\\pandas\\core\\generic.py\u001b[0m in \u001b[0;36m?\u001b[1;34m(self, name)\u001b[0m\n\u001b[0;32m   6295\u001b[0m             \u001b[1;32mand\u001b[0m \u001b[0mname\u001b[0m \u001b[1;32mnot\u001b[0m \u001b[1;32min\u001b[0m \u001b[0mself\u001b[0m\u001b[1;33m.\u001b[0m\u001b[0m_accessors\u001b[0m\u001b[1;33m\u001b[0m\u001b[1;33m\u001b[0m\u001b[0m\n\u001b[0;32m   6296\u001b[0m             \u001b[1;32mand\u001b[0m \u001b[0mself\u001b[0m\u001b[1;33m.\u001b[0m\u001b[0m_info_axis\u001b[0m\u001b[1;33m.\u001b[0m\u001b[0m_can_hold_identifiers_and_holds_name\u001b[0m\u001b[1;33m(\u001b[0m\u001b[0mname\u001b[0m\u001b[1;33m)\u001b[0m\u001b[1;33m\u001b[0m\u001b[1;33m\u001b[0m\u001b[0m\n\u001b[0;32m   6297\u001b[0m         ):\n\u001b[0;32m   6298\u001b[0m             \u001b[1;32mreturn\u001b[0m \u001b[0mself\u001b[0m\u001b[1;33m[\u001b[0m\u001b[0mname\u001b[0m\u001b[1;33m]\u001b[0m\u001b[1;33m\u001b[0m\u001b[1;33m\u001b[0m\u001b[0m\n\u001b[1;32m-> 6299\u001b[1;33m         \u001b[1;32mreturn\u001b[0m \u001b[0mobject\u001b[0m\u001b[1;33m.\u001b[0m\u001b[0m__getattribute__\u001b[0m\u001b[1;33m(\u001b[0m\u001b[0mself\u001b[0m\u001b[1;33m,\u001b[0m \u001b[0mname\u001b[0m\u001b[1;33m)\u001b[0m\u001b[1;33m\u001b[0m\u001b[1;33m\u001b[0m\u001b[0m\n\u001b[0m",
      "\u001b[1;31mAttributeError\u001b[0m: 'DataFrame' object has no attribute 'exporter'"
     ]
    }
   ],
   "source": [
    "for file in os.listdir(f\"{data_paths['baci']}\"):\n",
    "    print(file)\n",
    "    _ = pd.read_csv(f\"{data_paths['baci']}/\" + file, dtype={\"k\": str})\n",
    "    if \"year\" in _.columns:\n",
    "        continue\n",
    "    _.rename(columns={\"t\": \"year\", \"k\": \"product_id\", \"i\": \"exporter\", \"j\": \"importer\", \"v\": \"export_value\", \"q\": \"qty\"}, inplace=True)\n",
    "    _.loc[_.exporter == 251, [\"exporter\"]] = 250 # France\n",
    "    _.loc[_.exporter == 579, [\"exporter\"]] = 578 # Norway\n",
    "    _.loc[_.exporter == 699, [\"exporter\"]] = 356 # India\n",
    "    _.loc[_.exporter == 757, [\"exporter\"]] = 756 # Switzerland\n",
    "    _.loc[_.exporter == 842, [\"exporter\"]] = 840 # USA\n",
    "    _.loc[_.importer == 251, [\"importer\"]] = 250 # France\n",
    "    _.loc[_.importer == 579, [\"importer\"]] = 578 # Norway\n",
    "    _.loc[_.importer == 699, [\"importer\"]] = 356 # India\n",
    "    _.loc[_.importer == 757, [\"importer\"]] = 756 # Switzerland\n",
    "    _.loc[_.importer == 842, [\"importer\"]] = 840 # USA\n",
    "    \n",
    "    print(_.columns)\n",
    "    print(_[~_.exporter.isin(atlas_countries.country_id)][\"exporter\"].unique(), _[~_.importer.isin(atlas_countries.country_id)][\"importer\"].unique())\n",
    "    #y = input(\"save?\")\n",
    "    #if y == \"y\":\n",
    "    #    _.to_csv(\"../data/BACI_HS12_V202501/\" + file)"
   ]
  },
  {
   "cell_type": "markdown",
   "metadata": {},
   "source": [
    "Countries in Atlas with no bilateral recorded flows in UNCommtrade"
   ]
  },
  {
   "cell_type": "code",
   "execution_count": null,
   "metadata": {},
   "outputs": [
    {
     "data": {
      "text/html": [
       "<div>\n",
       "<style scoped>\n",
       "    .dataframe tbody tr th:only-of-type {\n",
       "        vertical-align: middle;\n",
       "    }\n",
       "\n",
       "    .dataframe tbody tr th {\n",
       "        vertical-align: top;\n",
       "    }\n",
       "\n",
       "    .dataframe thead th {\n",
       "        text-align: right;\n",
       "    }\n",
       "</style>\n",
       "<table border=\"1\" class=\"dataframe\">\n",
       "  <thead>\n",
       "    <tr style=\"text-align: right;\">\n",
       "      <th></th>\n",
       "      <th>country_id</th>\n",
       "      <th>name_short_en</th>\n",
       "      <th>iso3_code</th>\n",
       "      <th>legacy_location_id</th>\n",
       "    </tr>\n",
       "  </thead>\n",
       "  <tbody>\n",
       "    <tr>\n",
       "      <th>0</th>\n",
       "      <td>533</td>\n",
       "      <td>Aruba</td>\n",
       "      <td>ABW</td>\n",
       "      <td>0</td>\n",
       "    </tr>\n",
       "    <tr>\n",
       "      <th>1</th>\n",
       "      <td>4</td>\n",
       "      <td>Afghanistan</td>\n",
       "      <td>AFG</td>\n",
       "      <td>1</td>\n",
       "    </tr>\n",
       "    <tr>\n",
       "      <th>2</th>\n",
       "      <td>24</td>\n",
       "      <td>Angola</td>\n",
       "      <td>AGO</td>\n",
       "      <td>2</td>\n",
       "    </tr>\n",
       "    <tr>\n",
       "      <th>3</th>\n",
       "      <td>660</td>\n",
       "      <td>Anguilla</td>\n",
       "      <td>AIA</td>\n",
       "      <td>3</td>\n",
       "    </tr>\n",
       "    <tr>\n",
       "      <th>4</th>\n",
       "      <td>8</td>\n",
       "      <td>Albania</td>\n",
       "      <td>ALB</td>\n",
       "      <td>4</td>\n",
       "    </tr>\n",
       "    <tr>\n",
       "      <th>...</th>\n",
       "      <td>...</td>\n",
       "      <td>...</td>\n",
       "      <td>...</td>\n",
       "      <td>...</td>\n",
       "    </tr>\n",
       "    <tr>\n",
       "      <th>247</th>\n",
       "      <td>894</td>\n",
       "      <td>Zambia</td>\n",
       "      <td>ZMB</td>\n",
       "      <td>247</td>\n",
       "    </tr>\n",
       "    <tr>\n",
       "      <th>248</th>\n",
       "      <td>716</td>\n",
       "      <td>Zimbabwe</td>\n",
       "      <td>ZWE</td>\n",
       "      <td>248</td>\n",
       "    </tr>\n",
       "    <tr>\n",
       "      <th>249</th>\n",
       "      <td>158</td>\n",
       "      <td>Taiwan</td>\n",
       "      <td>TWN</td>\n",
       "      <td>249</td>\n",
       "    </tr>\n",
       "    <tr>\n",
       "      <th>250</th>\n",
       "      <td>914</td>\n",
       "      <td>Services Partners</td>\n",
       "      <td>USP</td>\n",
       "      <td>250</td>\n",
       "    </tr>\n",
       "    <tr>\n",
       "      <th>251</th>\n",
       "      <td>999</td>\n",
       "      <td>Undeclared</td>\n",
       "      <td>ANS</td>\n",
       "      <td>250</td>\n",
       "    </tr>\n",
       "  </tbody>\n",
       "</table>\n",
       "<p>252 rows × 4 columns</p>\n",
       "</div>"
      ],
      "text/plain": [
       "     country_id      name_short_en iso3_code  legacy_location_id\n",
       "0           533              Aruba       ABW                   0\n",
       "1             4        Afghanistan       AFG                   1\n",
       "2            24             Angola       AGO                   2\n",
       "3           660           Anguilla       AIA                   3\n",
       "4             8            Albania       ALB                   4\n",
       "..          ...                ...       ...                 ...\n",
       "247         894             Zambia       ZMB                 247\n",
       "248         716           Zimbabwe       ZWE                 248\n",
       "249         158             Taiwan       TWN                 249\n",
       "250         914  Services Partners       USP                 250\n",
       "251         999         Undeclared       ANS                 250\n",
       "\n",
       "[252 rows x 4 columns]"
      ]
     },
     "execution_count": 40,
     "metadata": {},
     "output_type": "execute_result"
    }
   ],
   "source": [
    "atlas_countries.head()"
   ]
  },
  {
   "cell_type": "code",
   "execution_count": null,
   "metadata": {},
   "outputs": [],
   "source": [
    "d = {\"Country ID\": [], \"Country Name\": [], \"Country ISO Code\": [], \"Reason\": []}\n",
    "for missing in atlas_df[~atlas_df.country_id.isin(trustworthiness_scores.country_id)][\"country_id\"].unique():\n",
    "    missing_alpha = atlas_countries.loc[atlas_countries.country_id == missing, \"iso3_code\"].values[0]\n",
    "    #print(missing_alpha, missing_alpha in list(reporters.reporterCodeIsoAlpha3))\n",
    "    d[\"Country ID\"].append(missing)\n",
    "    d[\"Country Name\"].append(atlas_countries.loc[atlas_countries.country_id == missing, \"name_short_en\"].values[0])\n",
    "    d[\"Country ISO Code\"].append(atlas_countries.loc[atlas_countries.country_id == missing, \"iso3_code\"].values[0])\n",
    "    \n",
    "    if missing_alpha in list(reporters.reporterCodeIsoAlpha3):\n",
    "        d[\"Reason\"].append(\"No reported data\")\n",
    "    else:\n",
    "        d[\"Reason\"].append(\"Country not present in UN Comm Trade dataset\")"
   ]
  },
  {
   "cell_type": "code",
   "execution_count": null,
   "metadata": {},
   "outputs": [],
   "source": [
    "#pd.DataFrame(d).sort_values(\"Country ID\").to_latex(\"test.txt\", index=False)"
   ]
  }
 ],
 "metadata": {
  "kernelspec": {
   "display_name": "thesis",
   "language": "python",
   "name": "python3"
  },
  "language_info": {
   "codemirror_mode": {
    "name": "ipython",
    "version": 3
   },
   "file_extension": ".py",
   "mimetype": "text/x-python",
   "name": "python",
   "nbconvert_exporter": "python",
   "pygments_lexer": "ipython3",
   "version": "3.9.21"
  }
 },
 "nbformat": 4,
 "nbformat_minor": 2
}
