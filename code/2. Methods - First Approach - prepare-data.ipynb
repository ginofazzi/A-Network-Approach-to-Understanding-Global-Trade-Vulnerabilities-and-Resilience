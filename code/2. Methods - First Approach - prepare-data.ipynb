{
 "cells": [
  {
   "cell_type": "markdown",
   "metadata": {},
   "source": [
    "# Prepare data for Graph NN"
   ]
  },
  {
   "cell_type": "markdown",
   "metadata": {},
   "source": [
    "Imports"
   ]
  },
  {
   "cell_type": "code",
   "execution_count": 1,
   "metadata": {},
   "outputs": [],
   "source": [
    "import pandas as pd\n",
    "import numpy as np\n",
    "from sklearn.preprocessing import StandardScaler\n",
    "from utils import *"
   ]
  },
  {
   "cell_type": "markdown",
   "metadata": {},
   "source": [
    "Load raw data"
   ]
  },
  {
   "cell_type": "code",
   "execution_count": 2,
   "metadata": {},
   "outputs": [],
   "source": [
    "df = pd.concat([pd.read_stata(f\"{data_paths['atlas']}/hs12_country_country_product_year_4_2012_2016.dta\"),\n",
    "                pd.read_stata(f\"{data_paths['atlas']}/hs12_country_country_product_year_4_2017_2021.dta\"),\n",
    "                pd.read_stata(f\"{data_paths['atlas']}/hs12_country_country_product_year_4_2022.dta\")])\n",
    "products = pd.read_csv(f\"{data_paths['atlas']}/product_hs12.csv\", dtype=str)\n",
    "countries = pd.read_csv(f\"{data_paths['atlas']}/location_country.csv\", dtype=str)"
   ]
  },
  {
   "cell_type": "markdown",
   "metadata": {},
   "source": [
    "We get a mapping from 'country_id' to 'node_id' (needed for Pytorch-Geometric)"
   ]
  },
  {
   "cell_type": "code",
   "execution_count": 146,
   "metadata": {},
   "outputs": [],
   "source": [
    "nodes_index = countries[[\"country_id\"]].reset_index().reset_index(names=\"node_id\")\n",
    "nodes_index = nodes_index[[\"node_id\", \"country_id\"]]\n",
    "nodes_index = {int(x.loc[\"country_id\"]): int(x.loc[\"node_id\"]) for i, x in nodes_index.iterrows()}"
   ]
  },
  {
   "cell_type": "markdown",
   "metadata": {},
   "source": [
    "Let's use less granularity: Collapse 4-digit products to 2-digit"
   ]
  },
  {
   "cell_type": "code",
   "execution_count": 147,
   "metadata": {},
   "outputs": [
    {
     "data": {
      "text/html": [
       "<div>\n",
       "<style scoped>\n",
       "    .dataframe tbody tr th:only-of-type {\n",
       "        vertical-align: middle;\n",
       "    }\n",
       "\n",
       "    .dataframe tbody tr th {\n",
       "        vertical-align: top;\n",
       "    }\n",
       "\n",
       "    .dataframe thead th {\n",
       "        text-align: right;\n",
       "    }\n",
       "</style>\n",
       "<table border=\"1\" class=\"dataframe\">\n",
       "  <thead>\n",
       "    <tr style=\"text-align: right;\">\n",
       "      <th></th>\n",
       "      <th>country_id</th>\n",
       "      <th>partner_country_id</th>\n",
       "      <th>year</th>\n",
       "      <th>product_id</th>\n",
       "      <th>export_value</th>\n",
       "      <th>import_value</th>\n",
       "      <th>coi</th>\n",
       "      <th>eci</th>\n",
       "      <th>pci</th>\n",
       "    </tr>\n",
       "  </thead>\n",
       "  <tbody>\n",
       "    <tr>\n",
       "      <th>0</th>\n",
       "      <td>4</td>\n",
       "      <td>8</td>\n",
       "      <td>2017</td>\n",
       "      <td>99</td>\n",
       "      <td>0.0</td>\n",
       "      <td>23355.0</td>\n",
       "      <td>-0.900028</td>\n",
       "      <td>-1.202973</td>\n",
       "      <td>0.106036</td>\n",
       "    </tr>\n",
       "    <tr>\n",
       "      <th>1</th>\n",
       "      <td>4</td>\n",
       "      <td>8</td>\n",
       "      <td>2018</td>\n",
       "      <td>99</td>\n",
       "      <td>37007.0</td>\n",
       "      <td>0.0</td>\n",
       "      <td>-0.798094</td>\n",
       "      <td>-1.158797</td>\n",
       "      <td>0.001044</td>\n",
       "    </tr>\n",
       "    <tr>\n",
       "      <th>2</th>\n",
       "      <td>4</td>\n",
       "      <td>8</td>\n",
       "      <td>2019</td>\n",
       "      <td>99</td>\n",
       "      <td>0.0</td>\n",
       "      <td>36310.0</td>\n",
       "      <td>-0.818056</td>\n",
       "      <td>-1.081313</td>\n",
       "      <td>0.279670</td>\n",
       "    </tr>\n",
       "  </tbody>\n",
       "</table>\n",
       "</div>"
      ],
      "text/plain": [
       "   country_id  partner_country_id  year product_id  export_value  \\\n",
       "0           4                   8  2017         99           0.0   \n",
       "1           4                   8  2018         99       37007.0   \n",
       "2           4                   8  2019         99           0.0   \n",
       "\n",
       "   import_value       coi       eci       pci  \n",
       "0       23355.0 -0.900028 -1.202973  0.106036  \n",
       "1           0.0 -0.798094 -1.158797  0.001044  \n",
       "2       36310.0 -0.818056 -1.081313  0.279670  "
      ]
     },
     "execution_count": 147,
     "metadata": {},
     "output_type": "execute_result"
    }
   ],
   "source": [
    "df.product_id = df.product_id.astype(str)\n",
    "df = df.merge(products[[\"product_id\", \"code\"]], how=\"left\", on=\"product_id\")\n",
    "df.drop(\"product_id\", axis=1, inplace=True)\n",
    "df.rename(columns={\"code\": \"product_id\"}, inplace=True)\n",
    "df.product_id = df.product_id.str[:2]\n",
    "df = df.groupby([\"country_id\", \"partner_country_id\", \"year\", \"product_id\"]).agg({\"export_value\": \"sum\", \"import_value\": \"sum\", \"coi\": \"max\", \"eci\": \"max\", \"pci\": \"max\"}).reset_index()\n",
    "df.head(3)"
   ]
  },
  {
   "cell_type": "code",
   "execution_count": 148,
   "metadata": {},
   "outputs": [],
   "source": [
    "rca_drop_threshold = 0.2"
   ]
  },
  {
   "cell_type": "code",
   "execution_count": 149,
   "metadata": {},
   "outputs": [],
   "source": [
    "# Include total volume imported for affecte importers\n",
    "import_volumes = df[[\"country_id\", \"year\", \"product_id\", \"partner_country_id\", \"import_value\"]].groupby([\"country_id\", \"product_id\", \"year\"]).agg({\"import_value\": \"sum\", \"partner_country_id\": \"nunique\"}).reset_index()\n",
    "import_volumes.rename(columns={\"country_id\": \"importer_id\", \"partner_country_id\": \"n_exporters\"}, inplace=True)\n",
    "\n",
    "lost_exporters = compute_lost_exporters(df=df, years=list(range(2012,2023)), import_volumes=import_volumes, drop_threshold=rca_drop_threshold)"
   ]
  },
  {
   "cell_type": "markdown",
   "metadata": {},
   "source": [
    "Select Graph Layer :: Year and Product"
   ]
  },
  {
   "cell_type": "code",
   "execution_count": 242,
   "metadata": {},
   "outputs": [],
   "source": [
    "## Select the year-product graph\n",
    "year = 2022\n",
    "product_id = \"30\"\n",
    "\n",
    "subset = df[(df.year == year) & (df.product_id == product_id) & (df.export_value >= 0)]"
   ]
  },
  {
   "cell_type": "markdown",
   "metadata": {},
   "source": [
    "## Generate the Graph Data\n",
    "We need Node IDs, Node Features, Node Labels and Edge list"
   ]
  },
  {
   "cell_type": "markdown",
   "metadata": {},
   "source": [
    "### Node Features & Node IDs\n",
    "We start by considering 3 features: \"Export Value\", \"COI\" and \"ECI\""
   ]
  },
  {
   "cell_type": "code",
   "execution_count": 243,
   "metadata": {},
   "outputs": [
    {
     "data": {
      "text/html": [
       "<div>\n",
       "<style scoped>\n",
       "    .dataframe tbody tr th:only-of-type {\n",
       "        vertical-align: middle;\n",
       "    }\n",
       "\n",
       "    .dataframe tbody tr th {\n",
       "        vertical-align: top;\n",
       "    }\n",
       "\n",
       "    .dataframe thead th {\n",
       "        text-align: right;\n",
       "    }\n",
       "</style>\n",
       "<table border=\"1\" class=\"dataframe\">\n",
       "  <thead>\n",
       "    <tr style=\"text-align: right;\">\n",
       "      <th></th>\n",
       "      <th>export_value</th>\n",
       "      <th>coi</th>\n",
       "      <th>eci</th>\n",
       "    </tr>\n",
       "    <tr>\n",
       "      <th>country_id</th>\n",
       "      <th></th>\n",
       "      <th></th>\n",
       "      <th></th>\n",
       "    </tr>\n",
       "  </thead>\n",
       "  <tbody>\n",
       "    <tr>\n",
       "      <th>4</th>\n",
       "      <td>73132.0</td>\n",
       "      <td>-0.877697</td>\n",
       "      <td>-1.297693</td>\n",
       "    </tr>\n",
       "    <tr>\n",
       "      <th>8</th>\n",
       "      <td>1423616.0</td>\n",
       "      <td>0.079925</td>\n",
       "      <td>-0.373866</td>\n",
       "    </tr>\n",
       "    <tr>\n",
       "      <th>10</th>\n",
       "      <td>1512.0</td>\n",
       "      <td>-0.394352</td>\n",
       "      <td>0.962811</td>\n",
       "    </tr>\n",
       "  </tbody>\n",
       "</table>\n",
       "</div>"
      ],
      "text/plain": [
       "            export_value       coi       eci\n",
       "country_id                                  \n",
       "4                73132.0 -0.877697 -1.297693\n",
       "8              1423616.0  0.079925 -0.373866\n",
       "10                1512.0 -0.394352  0.962811"
      ]
     },
     "execution_count": 243,
     "metadata": {},
     "output_type": "execute_result"
    }
   ],
   "source": [
    "nodes = subset[[\"country_id\", \"export_value\", \"coi\", \"eci\"]].groupby(\"country_id\").agg({\"export_value\": \"sum\", \"coi\": \"max\", \"eci\": \"max\"})\n",
    "nodes.head(3)"
   ]
  },
  {
   "cell_type": "markdown",
   "metadata": {},
   "source": [
    "#### RCA as a feature"
   ]
  },
  {
   "cell_type": "markdown",
   "metadata": {},
   "source": [
    "##### Compute RCAs"
   ]
  },
  {
   "cell_type": "code",
   "execution_count": 244,
   "metadata": {},
   "outputs": [],
   "source": [
    "# Compute all years country_product matrices for period\n",
    "compute_country_product_matrix_dict = {}\n",
    "\n",
    "for y in df.year.unique():\n",
    "    compute_country_product_matrix_dict[y] = compute_country_product_matrix(df[df.year==y], col=\"export_value\")\n",
    "\n",
    "rca_dict = rca(compute_country_product_matrix_dict)"
   ]
  },
  {
   "cell_type": "code",
   "execution_count": 245,
   "metadata": {},
   "outputs": [
    {
     "data": {
      "text/html": [
       "<div>\n",
       "<style scoped>\n",
       "    .dataframe tbody tr th:only-of-type {\n",
       "        vertical-align: middle;\n",
       "    }\n",
       "\n",
       "    .dataframe tbody tr th {\n",
       "        vertical-align: top;\n",
       "    }\n",
       "\n",
       "    .dataframe thead th {\n",
       "        text-align: right;\n",
       "    }\n",
       "</style>\n",
       "<table border=\"1\" class=\"dataframe\">\n",
       "  <thead>\n",
       "    <tr style=\"text-align: right;\">\n",
       "      <th>product_id</th>\n",
       "      <th>30</th>\n",
       "    </tr>\n",
       "    <tr>\n",
       "      <th>country_id</th>\n",
       "      <th></th>\n",
       "    </tr>\n",
       "  </thead>\n",
       "  <tbody>\n",
       "    <tr>\n",
       "      <th>4</th>\n",
       "      <td>0.001059</td>\n",
       "    </tr>\n",
       "    <tr>\n",
       "      <th>8</th>\n",
       "      <td>0.012140</td>\n",
       "    </tr>\n",
       "    <tr>\n",
       "      <th>10</th>\n",
       "      <td>0.005024</td>\n",
       "    </tr>\n",
       "  </tbody>\n",
       "</table>\n",
       "</div>"
      ],
      "text/plain": [
       "product_id        30\n",
       "country_id          \n",
       "4           0.001059\n",
       "8           0.012140\n",
       "10          0.005024"
      ]
     },
     "execution_count": 245,
     "metadata": {},
     "output_type": "execute_result"
    }
   ],
   "source": [
    "# Country RCA for a given product\n",
    "rca_dict[year][[product_id]].head(3)"
   ]
  },
  {
   "cell_type": "markdown",
   "metadata": {},
   "source": [
    "##### Add RCA to node feature"
   ]
  },
  {
   "cell_type": "code",
   "execution_count": 246,
   "metadata": {},
   "outputs": [
    {
     "name": "stdout",
     "output_type": "stream",
     "text": [
      "(233, 4)\n"
     ]
    },
    {
     "data": {
      "text/html": [
       "<div>\n",
       "<style scoped>\n",
       "    .dataframe tbody tr th:only-of-type {\n",
       "        vertical-align: middle;\n",
       "    }\n",
       "\n",
       "    .dataframe tbody tr th {\n",
       "        vertical-align: top;\n",
       "    }\n",
       "\n",
       "    .dataframe thead th {\n",
       "        text-align: right;\n",
       "    }\n",
       "</style>\n",
       "<table border=\"1\" class=\"dataframe\">\n",
       "  <thead>\n",
       "    <tr style=\"text-align: right;\">\n",
       "      <th></th>\n",
       "      <th>export_value</th>\n",
       "      <th>coi</th>\n",
       "      <th>eci</th>\n",
       "      <th>rca</th>\n",
       "    </tr>\n",
       "    <tr>\n",
       "      <th>country_id</th>\n",
       "      <th></th>\n",
       "      <th></th>\n",
       "      <th></th>\n",
       "      <th></th>\n",
       "    </tr>\n",
       "  </thead>\n",
       "  <tbody>\n",
       "    <tr>\n",
       "      <th>4</th>\n",
       "      <td>73132.0</td>\n",
       "      <td>-0.877697</td>\n",
       "      <td>-1.297693</td>\n",
       "      <td>0.001059</td>\n",
       "    </tr>\n",
       "    <tr>\n",
       "      <th>8</th>\n",
       "      <td>1423616.0</td>\n",
       "      <td>0.079925</td>\n",
       "      <td>-0.373866</td>\n",
       "      <td>0.012140</td>\n",
       "    </tr>\n",
       "    <tr>\n",
       "      <th>10</th>\n",
       "      <td>1512.0</td>\n",
       "      <td>-0.394352</td>\n",
       "      <td>0.962811</td>\n",
       "      <td>0.005024</td>\n",
       "    </tr>\n",
       "  </tbody>\n",
       "</table>\n",
       "</div>"
      ],
      "text/plain": [
       "            export_value       coi       eci       rca\n",
       "country_id                                            \n",
       "4                73132.0 -0.877697 -1.297693  0.001059\n",
       "8              1423616.0  0.079925 -0.373866  0.012140\n",
       "10                1512.0 -0.394352  0.962811  0.005024"
      ]
     },
     "execution_count": 246,
     "metadata": {},
     "output_type": "execute_result"
    }
   ],
   "source": [
    "nodes = nodes.merge(rca_dict[year][[product_id]].rename(columns={product_id: \"rca\"}), left_index=True, right_index=True, how=\"left\")\n",
    "print(nodes.shape)\n",
    "nodes.head(3)"
   ]
  },
  {
   "cell_type": "markdown",
   "metadata": {},
   "source": [
    "### Normalize the two not normalized features"
   ]
  },
  {
   "cell_type": "code",
   "execution_count": 247,
   "metadata": {},
   "outputs": [
    {
     "data": {
      "text/plain": [
       "rca    239\n",
       "dtype: int32"
      ]
     },
     "execution_count": 247,
     "metadata": {},
     "output_type": "execute_result"
    }
   ],
   "source": [
    "nodes[[\"rca\"]].idxmax()"
   ]
  },
  {
   "cell_type": "code",
   "execution_count": 248,
   "metadata": {},
   "outputs": [
    {
     "data": {
      "text/html": [
       "<div>\n",
       "<style scoped>\n",
       "    .dataframe tbody tr th:only-of-type {\n",
       "        vertical-align: middle;\n",
       "    }\n",
       "\n",
       "    .dataframe tbody tr th {\n",
       "        vertical-align: top;\n",
       "    }\n",
       "\n",
       "    .dataframe thead th {\n",
       "        text-align: right;\n",
       "    }\n",
       "</style>\n",
       "<table border=\"1\" class=\"dataframe\">\n",
       "  <thead>\n",
       "    <tr style=\"text-align: right;\">\n",
       "      <th></th>\n",
       "      <th>export_value</th>\n",
       "      <th>coi</th>\n",
       "      <th>eci</th>\n",
       "      <th>rca</th>\n",
       "    </tr>\n",
       "    <tr>\n",
       "      <th>country_id</th>\n",
       "      <th></th>\n",
       "      <th></th>\n",
       "      <th></th>\n",
       "      <th></th>\n",
       "    </tr>\n",
       "  </thead>\n",
       "  <tbody>\n",
       "    <tr>\n",
       "      <th>4</th>\n",
       "      <td>-0.240071</td>\n",
       "      <td>-0.877697</td>\n",
       "      <td>-1.297693</td>\n",
       "      <td>-0.276900</td>\n",
       "    </tr>\n",
       "    <tr>\n",
       "      <th>8</th>\n",
       "      <td>-0.239970</td>\n",
       "      <td>0.079925</td>\n",
       "      <td>-0.373866</td>\n",
       "      <td>-0.271664</td>\n",
       "    </tr>\n",
       "    <tr>\n",
       "      <th>10</th>\n",
       "      <td>-0.240076</td>\n",
       "      <td>-0.394352</td>\n",
       "      <td>0.962811</td>\n",
       "      <td>-0.275027</td>\n",
       "    </tr>\n",
       "  </tbody>\n",
       "</table>\n",
       "</div>"
      ],
      "text/plain": [
       "            export_value       coi       eci       rca\n",
       "country_id                                            \n",
       "4              -0.240071 -0.877697 -1.297693 -0.276900\n",
       "8              -0.239970  0.079925 -0.373866 -0.271664\n",
       "10             -0.240076 -0.394352  0.962811 -0.275027"
      ]
     },
     "execution_count": 248,
     "metadata": {},
     "output_type": "execute_result"
    }
   ],
   "source": [
    "scaler = StandardScaler()\n",
    "nodes[[\"export_value\"]] = scaler.fit_transform(nodes[[\"export_value\"]])\n",
    "nodes[[\"rca\"]] = scaler.fit_transform(nodes[[\"rca\"]])\n",
    "nodes.head(3)"
   ]
  },
  {
   "cell_type": "markdown",
   "metadata": {},
   "source": [
    "## Edge List"
   ]
  },
  {
   "cell_type": "code",
   "execution_count": 249,
   "metadata": {},
   "outputs": [
    {
     "name": "stderr",
     "output_type": "stream",
     "text": [
      "C:\\Users\\ginof\\AppData\\Local\\Temp\\ipykernel_27896\\4250341926.py:2: SettingWithCopyWarning: \n",
      "A value is trying to be set on a copy of a slice from a DataFrame\n",
      "\n",
      "See the caveats in the documentation: https://pandas.pydata.org/pandas-docs/stable/user_guide/indexing.html#returning-a-view-versus-a-copy\n",
      "  edge_list.rename(columns={\"country_id\": \"src\", \"partner_country_id\": \"tgt\"}, inplace=True)\n"
     ]
    }
   ],
   "source": [
    "edge_list = subset[[\"country_id\", \"partner_country_id\"]]#.replace(nodes_index)\n",
    "edge_list.rename(columns={\"country_id\": \"src\", \"partner_country_id\": \"tgt\"}, inplace=True)"
   ]
  },
  {
   "cell_type": "code",
   "execution_count": 250,
   "metadata": {},
   "outputs": [
    {
     "data": {
      "text/html": [
       "<div>\n",
       "<style scoped>\n",
       "    .dataframe tbody tr th:only-of-type {\n",
       "        vertical-align: middle;\n",
       "    }\n",
       "\n",
       "    .dataframe tbody tr th {\n",
       "        vertical-align: top;\n",
       "    }\n",
       "\n",
       "    .dataframe thead th {\n",
       "        text-align: right;\n",
       "    }\n",
       "</style>\n",
       "<table border=\"1\" class=\"dataframe\">\n",
       "  <thead>\n",
       "    <tr style=\"text-align: right;\">\n",
       "      <th></th>\n",
       "      <th>src</th>\n",
       "      <th>tgt</th>\n",
       "    </tr>\n",
       "  </thead>\n",
       "  <tbody>\n",
       "    <tr>\n",
       "      <th>856</th>\n",
       "      <td>4</td>\n",
       "      <td>40</td>\n",
       "    </tr>\n",
       "    <tr>\n",
       "      <th>1486</th>\n",
       "      <td>4</td>\n",
       "      <td>56</td>\n",
       "    </tr>\n",
       "    <tr>\n",
       "      <th>1764</th>\n",
       "      <td>4</td>\n",
       "      <td>76</td>\n",
       "    </tr>\n",
       "    <tr>\n",
       "      <th>2069</th>\n",
       "      <td>4</td>\n",
       "      <td>100</td>\n",
       "    </tr>\n",
       "    <tr>\n",
       "      <th>2131</th>\n",
       "      <td>4</td>\n",
       "      <td>104</td>\n",
       "    </tr>\n",
       "  </tbody>\n",
       "</table>\n",
       "</div>"
      ],
      "text/plain": [
       "      src  tgt\n",
       "856     4   40\n",
       "1486    4   56\n",
       "1764    4   76\n",
       "2069    4  100\n",
       "2131    4  104"
      ]
     },
     "execution_count": 250,
     "metadata": {},
     "output_type": "execute_result"
    }
   ],
   "source": [
    "edge_list.head()"
   ]
  },
  {
   "cell_type": "markdown",
   "metadata": {},
   "source": [
    "## Nodes Labels\n",
    "We want three labels:\n",
    "In year *n*, for product *p*:\n",
    "- 1 :: 'lost_exporter' -> Those countries that dropped ther importer status;\n",
    "- 2 :: 'affected_importer' -> Those countries that are deemed affected as a result of a lost exporter;\n",
    "- 0 :: 'not_affected' -> All other countries."
   ]
  },
  {
   "cell_type": "markdown",
   "metadata": {},
   "source": [
    "Compute lost_exporters dataframe"
   ]
  },
  {
   "cell_type": "code",
   "execution_count": 251,
   "metadata": {},
   "outputs": [
    {
     "data": {
      "text/html": [
       "<div>\n",
       "<style scoped>\n",
       "    .dataframe tbody tr th:only-of-type {\n",
       "        vertical-align: middle;\n",
       "    }\n",
       "\n",
       "    .dataframe tbody tr th {\n",
       "        vertical-align: top;\n",
       "    }\n",
       "\n",
       "    .dataframe thead th {\n",
       "        text-align: right;\n",
       "    }\n",
       "</style>\n",
       "<table border=\"1\" class=\"dataframe\">\n",
       "  <thead>\n",
       "    <tr style=\"text-align: right;\">\n",
       "      <th></th>\n",
       "      <th>country_id</th>\n",
       "      <th>product_id</th>\n",
       "      <th>rca_drop</th>\n",
       "      <th>prev_year</th>\n",
       "      <th>year</th>\n",
       "      <th>importer_id</th>\n",
       "      <th>prev_year_export_value</th>\n",
       "      <th>export_value</th>\n",
       "      <th>prev_year_importer_volume</th>\n",
       "      <th>n_exporters_x</th>\n",
       "      <th>importer_volume</th>\n",
       "      <th>n_exporters_y</th>\n",
       "      <th>affected</th>\n",
       "    </tr>\n",
       "  </thead>\n",
       "  <tbody>\n",
       "    <tr>\n",
       "      <th>14717</th>\n",
       "      <td>212</td>\n",
       "      <td>30</td>\n",
       "      <td>-0.810729</td>\n",
       "      <td>2021</td>\n",
       "      <td>2022</td>\n",
       "      <td>388</td>\n",
       "      <td>22687.0</td>\n",
       "      <td>5023.0</td>\n",
       "      <td>1.084982e+08</td>\n",
       "      <td>68</td>\n",
       "      <td>1.001260e+08</td>\n",
       "      <td>65</td>\n",
       "      <td>True</td>\n",
       "    </tr>\n",
       "    <tr>\n",
       "      <th>14718</th>\n",
       "      <td>212</td>\n",
       "      <td>30</td>\n",
       "      <td>-0.810729</td>\n",
       "      <td>2021</td>\n",
       "      <td>2022</td>\n",
       "      <td>499</td>\n",
       "      <td>3461.0</td>\n",
       "      <td>3891.0</td>\n",
       "      <td>1.391769e+08</td>\n",
       "      <td>56</td>\n",
       "      <td>1.141761e+08</td>\n",
       "      <td>53</td>\n",
       "      <td>False</td>\n",
       "    </tr>\n",
       "    <tr>\n",
       "      <th>14719</th>\n",
       "      <td>212</td>\n",
       "      <td>30</td>\n",
       "      <td>-0.810729</td>\n",
       "      <td>2021</td>\n",
       "      <td>2022</td>\n",
       "      <td>586</td>\n",
       "      <td>529628.0</td>\n",
       "      <td>147438.0</td>\n",
       "      <td>3.040795e+09</td>\n",
       "      <td>148</td>\n",
       "      <td>1.178769e+09</td>\n",
       "      <td>159</td>\n",
       "      <td>True</td>\n",
       "    </tr>\n",
       "  </tbody>\n",
       "</table>\n",
       "</div>"
      ],
      "text/plain": [
       "       country_id product_id  rca_drop  prev_year  year  importer_id  \\\n",
       "14717         212         30 -0.810729       2021  2022          388   \n",
       "14718         212         30 -0.810729       2021  2022          499   \n",
       "14719         212         30 -0.810729       2021  2022          586   \n",
       "\n",
       "       prev_year_export_value  export_value  prev_year_importer_volume  \\\n",
       "14717                 22687.0        5023.0               1.084982e+08   \n",
       "14718                  3461.0        3891.0               1.391769e+08   \n",
       "14719                529628.0      147438.0               3.040795e+09   \n",
       "\n",
       "       n_exporters_x  importer_volume  n_exporters_y  affected  \n",
       "14717             68     1.001260e+08             65      True  \n",
       "14718             56     1.141761e+08             53     False  \n",
       "14719            148     1.178769e+09            159      True  "
      ]
     },
     "execution_count": 251,
     "metadata": {},
     "output_type": "execute_result"
    }
   ],
   "source": [
    "lost_exporters_subset = lost_exporters[(lost_exporters.year == year) & (lost_exporters.product_id == product_id)]\n",
    "lost_exporters_subset.head(3)"
   ]
  },
  {
   "cell_type": "code",
   "execution_count": 252,
   "metadata": {},
   "outputs": [
    {
     "name": "stderr",
     "output_type": "stream",
     "text": [
      "C:\\Users\\ginof\\AppData\\Local\\Temp\\ipykernel_27896\\243369771.py:3: FutureWarning: Setting an item of incompatible dtype is deprecated and will raise in a future error of pandas. Value '[1 0 1 1]' has dtype incompatible with bool, please explicitly cast to a compatible dtype first.\n",
      "  affected_importers.loc[:, \"label\"] = affected_importers.loc[:, \"label\"].map({True: 1, False: 0}) # Map affected importers of lost exporters with correct label\n",
      "C:\\Users\\ginof\\AppData\\Local\\Temp\\ipykernel_27896\\243369771.py:9: SettingWithCopyWarning: \n",
      "A value is trying to be set on a copy of a slice from a DataFrame.\n",
      "Try using .loc[row_indexer,col_indexer] = value instead\n",
      "\n",
      "See the caveats in the documentation: https://pandas.pydata.org/pandas-docs/stable/user_guide/indexing.html#returning-a-view-versus-a-copy\n",
      "  lost_exporters_unique.loc[:, \"lost_exporter\"] = 1 # Append a one to identify lost exporters\n"
     ]
    }
   ],
   "source": [
    "# Extract affected importers\n",
    "affected_importers = lost_exporters_subset[[\"importer_id\", \"affected\"]].rename(columns={\"importer_id\": \"country_id\", \"affected\": \"label\"})\n",
    "affected_importers.loc[:, \"label\"] = affected_importers.loc[:, \"label\"].map({True: 1, False: 0}) # Map affected importers of lost exporters with correct label\n",
    "affected_importers.sort_values([\"label\", \"country_id\"], inplace=True)\n",
    "affected_importers.drop_duplicates(subset=\"country_id\", keep=\"last\", inplace=True) # Keep nodes affected\n",
    "\n",
    "lost_exporters_unique = lost_exporters_subset.drop_duplicates(subset=\"country_id\", keep=\"first\")\n",
    "if len(lost_exporters_unique) > 0:\n",
    "    lost_exporters_unique.loc[:, \"lost_exporter\"] = 1 # Append a one to identify lost exporters"
   ]
  },
  {
   "cell_type": "code",
   "execution_count": 253,
   "metadata": {},
   "outputs": [
    {
     "data": {
      "text/html": [
       "<div>\n",
       "<style scoped>\n",
       "    .dataframe tbody tr th:only-of-type {\n",
       "        vertical-align: middle;\n",
       "    }\n",
       "\n",
       "    .dataframe tbody tr th {\n",
       "        vertical-align: top;\n",
       "    }\n",
       "\n",
       "    .dataframe thead th {\n",
       "        text-align: right;\n",
       "    }\n",
       "</style>\n",
       "<table border=\"1\" class=\"dataframe\">\n",
       "  <thead>\n",
       "    <tr style=\"text-align: right;\">\n",
       "      <th></th>\n",
       "      <th>country_id</th>\n",
       "      <th>label</th>\n",
       "    </tr>\n",
       "  </thead>\n",
       "  <tbody>\n",
       "    <tr>\n",
       "      <th>14718</th>\n",
       "      <td>499</td>\n",
       "      <td>0</td>\n",
       "    </tr>\n",
       "    <tr>\n",
       "      <th>14717</th>\n",
       "      <td>388</td>\n",
       "      <td>1</td>\n",
       "    </tr>\n",
       "    <tr>\n",
       "      <th>14719</th>\n",
       "      <td>586</td>\n",
       "      <td>1</td>\n",
       "    </tr>\n",
       "  </tbody>\n",
       "</table>\n",
       "</div>"
      ],
      "text/plain": [
       "       country_id  label\n",
       "14718         499      0\n",
       "14717         388      1\n",
       "14719         586      1"
      ]
     },
     "execution_count": 253,
     "metadata": {},
     "output_type": "execute_result"
    }
   ],
   "source": [
    "affected_importers.head(3)"
   ]
  },
  {
   "cell_type": "code",
   "execution_count": 254,
   "metadata": {},
   "outputs": [
    {
     "data": {
      "text/html": [
       "<div>\n",
       "<style scoped>\n",
       "    .dataframe tbody tr th:only-of-type {\n",
       "        vertical-align: middle;\n",
       "    }\n",
       "\n",
       "    .dataframe tbody tr th {\n",
       "        vertical-align: top;\n",
       "    }\n",
       "\n",
       "    .dataframe thead th {\n",
       "        text-align: right;\n",
       "    }\n",
       "</style>\n",
       "<table border=\"1\" class=\"dataframe\">\n",
       "  <thead>\n",
       "    <tr style=\"text-align: right;\">\n",
       "      <th></th>\n",
       "      <th>country_id</th>\n",
       "      <th>export_value</th>\n",
       "      <th>coi</th>\n",
       "      <th>eci</th>\n",
       "      <th>rca</th>\n",
       "      <th>lost_exporter</th>\n",
       "      <th>label</th>\n",
       "    </tr>\n",
       "  </thead>\n",
       "  <tbody>\n",
       "    <tr>\n",
       "      <th>0</th>\n",
       "      <td>4</td>\n",
       "      <td>-0.240071</td>\n",
       "      <td>-0.877697</td>\n",
       "      <td>-1.297693</td>\n",
       "      <td>-0.276900</td>\n",
       "      <td>0.0</td>\n",
       "      <td>0.0</td>\n",
       "    </tr>\n",
       "    <tr>\n",
       "      <th>1</th>\n",
       "      <td>8</td>\n",
       "      <td>-0.239970</td>\n",
       "      <td>0.079925</td>\n",
       "      <td>-0.373866</td>\n",
       "      <td>-0.271664</td>\n",
       "      <td>0.0</td>\n",
       "      <td>0.0</td>\n",
       "    </tr>\n",
       "    <tr>\n",
       "      <th>2</th>\n",
       "      <td>10</td>\n",
       "      <td>-0.240076</td>\n",
       "      <td>-0.394352</td>\n",
       "      <td>0.962811</td>\n",
       "      <td>-0.275027</td>\n",
       "      <td>0.0</td>\n",
       "      <td>0.0</td>\n",
       "    </tr>\n",
       "  </tbody>\n",
       "</table>\n",
       "</div>"
      ],
      "text/plain": [
       "   country_id  export_value       coi       eci       rca  lost_exporter  \\\n",
       "0           4     -0.240071 -0.877697 -1.297693 -0.276900            0.0   \n",
       "1           8     -0.239970  0.079925 -0.373866 -0.271664            0.0   \n",
       "2          10     -0.240076 -0.394352  0.962811 -0.275027            0.0   \n",
       "\n",
       "   label  \n",
       "0    0.0  \n",
       "1    0.0  \n",
       "2    0.0  "
      ]
     },
     "execution_count": 254,
     "metadata": {},
     "output_type": "execute_result"
    }
   ],
   "source": [
    "if len(lost_exporters_unique) > 0:\n",
    "    nodes = nodes.merge(lost_exporters_unique[[\"country_id\", \"lost_exporter\"]], on=[\"country_id\"], how=\"left\") # Finds lost exportesr\n",
    "else:\n",
    "    nodes[\"lost_exporter\"] = 0\n",
    "nodes = nodes.merge(affected_importers[[\"country_id\", \"label\"]], on=[\"country_id\"], how=\"left\") # Find affected importers\n",
    "nodes.fillna(0, inplace=True) # Remaining are not affected\n",
    "#nodes[\"label\"] = nodes.label_x + nodes.label_y # Unify both labels\n",
    "#nodes.drop([\"label_x\", \"label_y\"], axis=1, inplace=True)\n",
    "nodes.head(3)"
   ]
  },
  {
   "cell_type": "code",
   "execution_count": 255,
   "metadata": {},
   "outputs": [
    {
     "data": {
      "text/plain": [
       "array([0., 1.])"
      ]
     },
     "execution_count": 255,
     "metadata": {},
     "output_type": "execute_result"
    }
   ],
   "source": [
    "nodes.label.unique() # Make sure there is no overlapping labels (lost_exporter AND affected importer)"
   ]
  },
  {
   "cell_type": "code",
   "execution_count": 256,
   "metadata": {},
   "outputs": [],
   "source": [
    "#nodes[nodes.label == 3]"
   ]
  },
  {
   "cell_type": "markdown",
   "metadata": {},
   "source": [
    "## Map 'country_id' to 'node_id'"
   ]
  },
  {
   "cell_type": "code",
   "execution_count": 257,
   "metadata": {},
   "outputs": [],
   "source": [
    "#nodes.country_id = nodes.country_id.replace(nodes_index)\n",
    "#nodes.rename(columns={\"country_id\": \"node_id\"}, inplace=True)\n",
    "#nodes.head(3)"
   ]
  },
  {
   "cell_type": "markdown",
   "metadata": {},
   "source": [
    "We get a mapping from 'country_id' to 'node_id' (needed for Pytorch-Geometric)"
   ]
  },
  {
   "cell_type": "code",
   "execution_count": 258,
   "metadata": {},
   "outputs": [
    {
     "data": {
      "text/html": [
       "<div>\n",
       "<style scoped>\n",
       "    .dataframe tbody tr th:only-of-type {\n",
       "        vertical-align: middle;\n",
       "    }\n",
       "\n",
       "    .dataframe tbody tr th {\n",
       "        vertical-align: top;\n",
       "    }\n",
       "\n",
       "    .dataframe thead th {\n",
       "        text-align: right;\n",
       "    }\n",
       "</style>\n",
       "<table border=\"1\" class=\"dataframe\">\n",
       "  <thead>\n",
       "    <tr style=\"text-align: right;\">\n",
       "      <th></th>\n",
       "      <th>ix</th>\n",
       "      <th>country_id</th>\n",
       "    </tr>\n",
       "  </thead>\n",
       "  <tbody>\n",
       "    <tr>\n",
       "      <th>0</th>\n",
       "      <td>0</td>\n",
       "      <td>4</td>\n",
       "    </tr>\n",
       "    <tr>\n",
       "      <th>1</th>\n",
       "      <td>1</td>\n",
       "      <td>8</td>\n",
       "    </tr>\n",
       "    <tr>\n",
       "      <th>2</th>\n",
       "      <td>2</td>\n",
       "      <td>10</td>\n",
       "    </tr>\n",
       "    <tr>\n",
       "      <th>3</th>\n",
       "      <td>3</td>\n",
       "      <td>12</td>\n",
       "    </tr>\n",
       "    <tr>\n",
       "      <th>4</th>\n",
       "      <td>4</td>\n",
       "      <td>16</td>\n",
       "    </tr>\n",
       "    <tr>\n",
       "      <th>...</th>\n",
       "      <td>...</td>\n",
       "      <td>...</td>\n",
       "    </tr>\n",
       "    <tr>\n",
       "      <th>228</th>\n",
       "      <td>228</td>\n",
       "      <td>876</td>\n",
       "    </tr>\n",
       "    <tr>\n",
       "      <th>229</th>\n",
       "      <td>229</td>\n",
       "      <td>882</td>\n",
       "    </tr>\n",
       "    <tr>\n",
       "      <th>230</th>\n",
       "      <td>230</td>\n",
       "      <td>887</td>\n",
       "    </tr>\n",
       "    <tr>\n",
       "      <th>231</th>\n",
       "      <td>231</td>\n",
       "      <td>894</td>\n",
       "    </tr>\n",
       "    <tr>\n",
       "      <th>232</th>\n",
       "      <td>232</td>\n",
       "      <td>999</td>\n",
       "    </tr>\n",
       "  </tbody>\n",
       "</table>\n",
       "<p>233 rows × 2 columns</p>\n",
       "</div>"
      ],
      "text/plain": [
       "      ix  country_id\n",
       "0      0           4\n",
       "1      1           8\n",
       "2      2          10\n",
       "3      3          12\n",
       "4      4          16\n",
       "..   ...         ...\n",
       "228  228         876\n",
       "229  229         882\n",
       "230  230         887\n",
       "231  231         894\n",
       "232  232         999\n",
       "\n",
       "[233 rows x 2 columns]"
      ]
     },
     "execution_count": 258,
     "metadata": {},
     "output_type": "execute_result"
    }
   ],
   "source": [
    "nodes.sort_values(\"country_id\", inplace=True)\n",
    "node_index = nodes.reset_index(names=\"ix\")[[\"ix\", \"country_id\"]]\n",
    "node_index"
   ]
  },
  {
   "cell_type": "code",
   "execution_count": 259,
   "metadata": {},
   "outputs": [],
   "source": [
    "#nodes_index = countries[[\"country_id\"]].reset_index().reset_index(names=\"node_id\")\n",
    "#nodes_index = nodes_index[[\"node_id\", \"country_id\"]]\n",
    "node_index = {int(x.loc[\"country_id\"]): int(x.loc[\"ix\"]) for i, x in node_index.iterrows()}"
   ]
  },
  {
   "cell_type": "code",
   "execution_count": 260,
   "metadata": {},
   "outputs": [
    {
     "name": "stderr",
     "output_type": "stream",
     "text": [
      "C:\\Users\\ginof\\AppData\\Local\\Temp\\ipykernel_27896\\3556910097.py:1: SettingWithCopyWarning: \n",
      "A value is trying to be set on a copy of a slice from a DataFrame.\n",
      "Try using .loc[row_indexer,col_indexer] = value instead\n",
      "\n",
      "See the caveats in the documentation: https://pandas.pydata.org/pandas-docs/stable/user_guide/indexing.html#returning-a-view-versus-a-copy\n",
      "  edge_list.src = edge_list.src.map(node_index)\n",
      "C:\\Users\\ginof\\AppData\\Local\\Temp\\ipykernel_27896\\3556910097.py:2: SettingWithCopyWarning: \n",
      "A value is trying to be set on a copy of a slice from a DataFrame.\n",
      "Try using .loc[row_indexer,col_indexer] = value instead\n",
      "\n",
      "See the caveats in the documentation: https://pandas.pydata.org/pandas-docs/stable/user_guide/indexing.html#returning-a-view-versus-a-copy\n",
      "  edge_list.tgt = edge_list.tgt.map(node_index)\n"
     ]
    }
   ],
   "source": [
    "edge_list.src = edge_list.src.map(node_index)\n",
    "edge_list.tgt = edge_list.tgt.map(node_index)"
   ]
  },
  {
   "cell_type": "markdown",
   "metadata": {},
   "source": [
    "## Save nodes and edge list"
   ]
  },
  {
   "cell_type": "code",
   "execution_count": null,
   "metadata": {},
   "outputs": [],
   "source": [
    "#nodes.to_csv(f\"../data/nodes-{year}-{product_id}.csv\", index=False)\n",
    "#edge_list.to_csv(f\"../data/edge_list-{year}-{product_id}.csv\", index=False)"
   ]
  },
  {
   "cell_type": "code",
   "execution_count": 262,
   "metadata": {},
   "outputs": [],
   "source": [
    "nodes[\"country_id\"] = nodes.country_id.map(node_index)\n",
    "nodes.rename(columns={\"country_id\": \"node_id\"}, inplace=True)"
   ]
  },
  {
   "cell_type": "code",
   "execution_count": 263,
   "metadata": {},
   "outputs": [
    {
     "data": {
      "text/html": [
       "<div>\n",
       "<style scoped>\n",
       "    .dataframe tbody tr th:only-of-type {\n",
       "        vertical-align: middle;\n",
       "    }\n",
       "\n",
       "    .dataframe tbody tr th {\n",
       "        vertical-align: top;\n",
       "    }\n",
       "\n",
       "    .dataframe thead th {\n",
       "        text-align: right;\n",
       "    }\n",
       "</style>\n",
       "<table border=\"1\" class=\"dataframe\">\n",
       "  <thead>\n",
       "    <tr style=\"text-align: right;\">\n",
       "      <th></th>\n",
       "      <th>src</th>\n",
       "      <th>tgt</th>\n",
       "    </tr>\n",
       "  </thead>\n",
       "  <tbody>\n",
       "    <tr>\n",
       "      <th>856</th>\n",
       "      <td>0</td>\n",
       "      <td>11</td>\n",
       "    </tr>\n",
       "    <tr>\n",
       "      <th>1486</th>\n",
       "      <td>0</td>\n",
       "      <td>17</td>\n",
       "    </tr>\n",
       "    <tr>\n",
       "      <th>1764</th>\n",
       "      <td>0</td>\n",
       "      <td>23</td>\n",
       "    </tr>\n",
       "    <tr>\n",
       "      <th>2069</th>\n",
       "      <td>0</td>\n",
       "      <td>29</td>\n",
       "    </tr>\n",
       "    <tr>\n",
       "      <th>2131</th>\n",
       "      <td>0</td>\n",
       "      <td>30</td>\n",
       "    </tr>\n",
       "    <tr>\n",
       "      <th>...</th>\n",
       "      <td>...</td>\n",
       "      <td>...</td>\n",
       "    </tr>\n",
       "    <tr>\n",
       "      <th>11323952</th>\n",
       "      <td>232</td>\n",
       "      <td>213</td>\n",
       "    </tr>\n",
       "    <tr>\n",
       "      <th>11325280</th>\n",
       "      <td>232</td>\n",
       "      <td>220</td>\n",
       "    </tr>\n",
       "    <tr>\n",
       "      <th>11325841</th>\n",
       "      <td>232</td>\n",
       "      <td>221</td>\n",
       "    </tr>\n",
       "    <tr>\n",
       "      <th>11326519</th>\n",
       "      <td>232</td>\n",
       "      <td>225</td>\n",
       "    </tr>\n",
       "    <tr>\n",
       "      <th>11326591</th>\n",
       "      <td>232</td>\n",
       "      <td>226</td>\n",
       "    </tr>\n",
       "  </tbody>\n",
       "</table>\n",
       "<p>16750 rows × 2 columns</p>\n",
       "</div>"
      ],
      "text/plain": [
       "          src  tgt\n",
       "856         0   11\n",
       "1486        0   17\n",
       "1764        0   23\n",
       "2069        0   29\n",
       "2131        0   30\n",
       "...       ...  ...\n",
       "11323952  232  213\n",
       "11325280  232  220\n",
       "11325841  232  221\n",
       "11326519  232  225\n",
       "11326591  232  226\n",
       "\n",
       "[16750 rows x 2 columns]"
      ]
     },
     "execution_count": 263,
     "metadata": {},
     "output_type": "execute_result"
    }
   ],
   "source": [
    "edge_list"
   ]
  },
  {
   "cell_type": "code",
   "execution_count": 264,
   "metadata": {},
   "outputs": [
    {
     "data": {
      "text/plain": [
       "label\n",
       "0.0    230\n",
       "1.0      3\n",
       "dtype: int64"
      ]
     },
     "execution_count": 264,
     "metadata": {},
     "output_type": "execute_result"
    }
   ],
   "source": [
    "nodes.groupby(\"label\").size()"
   ]
  }
 ],
 "metadata": {
  "kernelspec": {
   "display_name": "thesis",
   "language": "python",
   "name": "python3"
  },
  "language_info": {
   "codemirror_mode": {
    "name": "ipython",
    "version": 3
   },
   "file_extension": ".py",
   "mimetype": "text/x-python",
   "name": "python",
   "nbconvert_exporter": "python",
   "pygments_lexer": "ipython3",
   "version": "3.9.21"
  }
 },
 "nbformat": 4,
 "nbformat_minor": 2
}
