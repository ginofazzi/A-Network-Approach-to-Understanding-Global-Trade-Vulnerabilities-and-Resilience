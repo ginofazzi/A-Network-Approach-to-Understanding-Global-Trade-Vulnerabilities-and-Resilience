{
 "cells": [
  {
   "cell_type": "code",
   "execution_count": 1,
   "metadata": {},
   "outputs": [],
   "source": [
    "import pandas as pd\n",
    "from utils import *\n",
    "import itertools"
   ]
  },
  {
   "cell_type": "markdown",
   "metadata": {},
   "source": [
    "## Affected Importers Label"
   ]
  },
  {
   "cell_type": "markdown",
   "metadata": {},
   "source": [
    "A country is labelled as affected importer if:\n",
    " * One of its exporter partners has \"lost\" its condition as exporter\n",
    " * The importer either reduces its imports for the commodity by an amount of 20%; OR\n",
    " * The importer pays a higher price than the previous year, in excess of the price change for the commodity"
   ]
  },
  {
   "cell_type": "markdown",
   "metadata": {},
   "source": [
    "Retrieve BACI data to compute average prices"
   ]
  },
  {
   "cell_type": "code",
   "execution_count": 3,
   "metadata": {},
   "outputs": [
    {
     "name": "stdout",
     "output_type": "stream",
     "text": [
      "2012\n",
      "2013\n",
      "2014\n",
      "2015\n",
      "2016\n",
      "2017\n",
      "2018\n",
      "2019\n",
      "2020\n",
      "2021\n",
      "2022\n"
     ]
    }
   ],
   "source": [
    "avg_prices = pd.DataFrame()\n",
    "avg_prices_per_importer = pd.DataFrame()\n",
    "atlas_countries = pd.concat([pd.read_stata(f\"{data_paths['atlas']}/hs12_country_country_product_year_4_2012_2016.dta\"),\n",
    "                pd.read_stata(f\"{data_paths['atlas']}/hs12_country_country_product_year_4_2017_2021.dta\"),\n",
    "                pd.read_stata(f\"{data_paths['atlas']}/hs12_country_country_product_year_4_2022.dta\")]).country_id.unique()\n",
    "all_countries = set(atlas_countries)\n",
    "\n",
    "for year in range(2012, 2023):\n",
    "    print(year)\n",
    "    baci = pd.read_csv(f\"{data_paths['baci']}/BACI_HS12_Y{year}_V202501.csv\", dtype={\"product_id\": str})\n",
    "    baci[\"product_code\"] = baci.product_id.str[:2] ## Reduce product code to 2 digits\n",
    "    baci.dropna(inplace=True) # Some entries have NANs for qty. We'll dismiss this faulty entries.\n",
    "    # Calculate the average price each importer was paying for each product (across all partners)\n",
    "    avg_prices_per_importer_year = baci.groupby([\"importer\", \"product_code\"])[[\"export_value\", \"qty\"]].sum().reset_index()\n",
    "    avg_prices_per_importer_year[\"price\"] = avg_prices_per_importer_year.export_value / avg_prices_per_importer_year.qty\n",
    "    avg_prices_per_importer_year.loc[:, [\"year\"]] = year\n",
    "    avg_prices_per_importer = pd.concat([avg_prices_per_importer, avg_prices_per_importer_year])\n",
    "    # Calculate average price per commodity-year\n",
    "    avg_prices_year = baci.groupby(\"product_code\")[[\"export_value\", \"qty\"]].sum().reset_index()\n",
    "    avg_prices_year[\"price\"] = avg_prices_year.export_value / avg_prices_year.qty\n",
    "    avg_prices_year[\"year\"] = year\n",
    "    avg_prices = pd.concat([avg_prices, avg_prices_year])\n",
    "    # Update all seen countries\n",
    "    all_countries.update(baci.exporter)\n",
    "    all_countries.update(baci.importer)\n",
    "    del baci # to recover some memory"
   ]
  },
  {
   "cell_type": "markdown",
   "metadata": {},
   "source": [
    "Get the report of potentially affected importers by 'lost exporters'"
   ]
  },
  {
   "cell_type": "code",
   "execution_count": 4,
   "metadata": {},
   "outputs": [
    {
     "data": {
      "text/html": [
       "<div>\n",
       "<style scoped>\n",
       "    .dataframe tbody tr th:only-of-type {\n",
       "        vertical-align: middle;\n",
       "    }\n",
       "\n",
       "    .dataframe tbody tr th {\n",
       "        vertical-align: top;\n",
       "    }\n",
       "\n",
       "    .dataframe thead th {\n",
       "        text-align: right;\n",
       "    }\n",
       "</style>\n",
       "<table border=\"1\" class=\"dataframe\">\n",
       "  <thead>\n",
       "    <tr style=\"text-align: right;\">\n",
       "      <th></th>\n",
       "      <th>affected_importer</th>\n",
       "      <th>year_from_value</th>\n",
       "      <th>year_to_value</th>\n",
       "      <th>year_from_n_exporters</th>\n",
       "      <th>year_to_n_exporters</th>\n",
       "      <th>year_from</th>\n",
       "      <th>year_to</th>\n",
       "      <th>product_code</th>\n",
       "      <th>exporter_id</th>\n",
       "      <th>drop_pct</th>\n",
       "    </tr>\n",
       "  </thead>\n",
       "  <tbody>\n",
       "    <tr>\n",
       "      <th>0</th>\n",
       "      <td>276</td>\n",
       "      <td>2.339764e+09</td>\n",
       "      <td>3.153808e+09</td>\n",
       "      <td>517.0</td>\n",
       "      <td>525.0</td>\n",
       "      <td>2012</td>\n",
       "      <td>2013</td>\n",
       "      <td>86</td>\n",
       "      <td>4</td>\n",
       "      <td>-0.584686</td>\n",
       "    </tr>\n",
       "    <tr>\n",
       "      <th>1</th>\n",
       "      <td>528</td>\n",
       "      <td>7.063663e+08</td>\n",
       "      <td>4.552369e+08</td>\n",
       "      <td>298.0</td>\n",
       "      <td>309.0</td>\n",
       "      <td>2012</td>\n",
       "      <td>2013</td>\n",
       "      <td>86</td>\n",
       "      <td>4</td>\n",
       "      <td>-0.584686</td>\n",
       "    </tr>\n",
       "    <tr>\n",
       "      <th>2</th>\n",
       "      <td>586</td>\n",
       "      <td>1.444143e+08</td>\n",
       "      <td>6.381490e+07</td>\n",
       "      <td>58.0</td>\n",
       "      <td>54.0</td>\n",
       "      <td>2012</td>\n",
       "      <td>2013</td>\n",
       "      <td>86</td>\n",
       "      <td>4</td>\n",
       "      <td>-0.584686</td>\n",
       "    </tr>\n",
       "  </tbody>\n",
       "</table>\n",
       "</div>"
      ],
      "text/plain": [
       "   affected_importer  year_from_value  year_to_value  year_from_n_exporters  \\\n",
       "0                276     2.339764e+09   3.153808e+09                  517.0   \n",
       "1                528     7.063663e+08   4.552369e+08                  298.0   \n",
       "2                586     1.444143e+08   6.381490e+07                   58.0   \n",
       "\n",
       "   year_to_n_exporters  year_from  year_to product_code  exporter_id  drop_pct  \n",
       "0                525.0       2012     2013           86            4 -0.584686  \n",
       "1                309.0       2012     2013           86            4 -0.584686  \n",
       "2                 54.0       2012     2013           86            4 -0.584686  "
      ]
     },
     "execution_count": 4,
     "metadata": {},
     "output_type": "execute_result"
    }
   ],
   "source": [
    "# Initial report of potentially affected importers from lost exporters\n",
    "drop_exporters_impact = pd.read_csv(f\"{data_paths['graphs_data']}/df_impact_drop_exporters.csv\")\n",
    "drop_exporters_impact.rename(columns={\"pid\": \"product_code\"}, inplace=True)\n",
    "drop_exporters_impact.head(3)"
   ]
  },
  {
   "cell_type": "code",
   "execution_count": 5,
   "metadata": {},
   "outputs": [
    {
     "data": {
      "text/html": [
       "<div>\n",
       "<style scoped>\n",
       "    .dataframe tbody tr th:only-of-type {\n",
       "        vertical-align: middle;\n",
       "    }\n",
       "\n",
       "    .dataframe tbody tr th {\n",
       "        vertical-align: top;\n",
       "    }\n",
       "\n",
       "    .dataframe thead th {\n",
       "        text-align: right;\n",
       "    }\n",
       "</style>\n",
       "<table border=\"1\" class=\"dataframe\">\n",
       "  <thead>\n",
       "    <tr style=\"text-align: right;\">\n",
       "      <th></th>\n",
       "      <th>affected_importer</th>\n",
       "      <th>year_from_value</th>\n",
       "      <th>year_to_value</th>\n",
       "      <th>year_from_n_exporters</th>\n",
       "      <th>year_to_n_exporters</th>\n",
       "      <th>year_from</th>\n",
       "      <th>year_to</th>\n",
       "      <th>product_code</th>\n",
       "      <th>exporter_id</th>\n",
       "      <th>drop_pct</th>\n",
       "      <th>importer_drop</th>\n",
       "    </tr>\n",
       "  </thead>\n",
       "  <tbody>\n",
       "    <tr>\n",
       "      <th>0</th>\n",
       "      <td>276</td>\n",
       "      <td>2.339764e+09</td>\n",
       "      <td>3.153808e+09</td>\n",
       "      <td>517.0</td>\n",
       "      <td>525.0</td>\n",
       "      <td>2012</td>\n",
       "      <td>2013</td>\n",
       "      <td>86</td>\n",
       "      <td>4</td>\n",
       "      <td>-0.584686</td>\n",
       "      <td>0.347917</td>\n",
       "    </tr>\n",
       "    <tr>\n",
       "      <th>1</th>\n",
       "      <td>528</td>\n",
       "      <td>7.063663e+08</td>\n",
       "      <td>4.552369e+08</td>\n",
       "      <td>298.0</td>\n",
       "      <td>309.0</td>\n",
       "      <td>2012</td>\n",
       "      <td>2013</td>\n",
       "      <td>86</td>\n",
       "      <td>4</td>\n",
       "      <td>-0.584686</td>\n",
       "      <td>-0.355523</td>\n",
       "    </tr>\n",
       "    <tr>\n",
       "      <th>2</th>\n",
       "      <td>586</td>\n",
       "      <td>1.444143e+08</td>\n",
       "      <td>6.381490e+07</td>\n",
       "      <td>58.0</td>\n",
       "      <td>54.0</td>\n",
       "      <td>2012</td>\n",
       "      <td>2013</td>\n",
       "      <td>86</td>\n",
       "      <td>4</td>\n",
       "      <td>-0.584686</td>\n",
       "      <td>-0.558112</td>\n",
       "    </tr>\n",
       "  </tbody>\n",
       "</table>\n",
       "</div>"
      ],
      "text/plain": [
       "   affected_importer  year_from_value  year_to_value  year_from_n_exporters  \\\n",
       "0                276     2.339764e+09   3.153808e+09                  517.0   \n",
       "1                528     7.063663e+08   4.552369e+08                  298.0   \n",
       "2                586     1.444143e+08   6.381490e+07                   58.0   \n",
       "\n",
       "   year_to_n_exporters  year_from  year_to product_code  exporter_id  \\\n",
       "0                525.0       2012     2013           86            4   \n",
       "1                309.0       2012     2013           86            4   \n",
       "2                 54.0       2012     2013           86            4   \n",
       "\n",
       "   drop_pct  importer_drop  \n",
       "0 -0.584686       0.347917  \n",
       "1 -0.584686      -0.355523  \n",
       "2 -0.584686      -0.558112  "
      ]
     },
     "execution_count": 5,
     "metadata": {},
     "output_type": "execute_result"
    }
   ],
   "source": [
    "# Calculate drop in imports from potentially affected importers\n",
    "drop_exporters_impact[\"importer_drop\"] = (drop_exporters_impact[\"year_to_value\"] / drop_exporters_impact[\"year_from_value\"]) - 1\n",
    "drop_exporters_impact.head(3)"
   ]
  },
  {
   "cell_type": "markdown",
   "metadata": {},
   "source": [
    "We need to find the products that 'affected importer' was importing from 'lost exporters' at 'year from', then add the avg. price of the commodity, then do the same for 'year to', and calculate the ratios."
   ]
  },
  {
   "cell_type": "code",
   "execution_count": 6,
   "metadata": {},
   "outputs": [],
   "source": [
    "# Get Avg. Price Product (APP) for year from\n",
    "drop_exporters_impact = drop_exporters_impact.merge(avg_prices[[\"product_code\", \"year\", \"price\"]], left_on=[\"product_code\", \"year_from\"], \\\n",
    "                                                    right_on=[\"product_code\", \"year\"], how=\"left\")\n",
    "drop_exporters_impact.drop(\"year\", axis=1, inplace=True)\n",
    "drop_exporters_impact.rename(columns={\"price\": \"APP_year_from\"}, inplace=True)\n",
    "# Get Avg. Price Product (APP) for year to\n",
    "drop_exporters_impact = drop_exporters_impact.merge(avg_prices[[\"product_code\", \"year\", \"price\"]], left_on=[\"product_code\", \"year_to\"], \\\n",
    "                                                    right_on=[\"product_code\", \"year\"], how=\"left\")\n",
    "drop_exporters_impact.drop(\"year\", axis=1, inplace=True)\n",
    "drop_exporters_impact.rename(columns={\"price\": \"APP_year_to\"}, inplace=True)\n",
    "# APP Change\n",
    "drop_exporters_impact.loc[:, [\"APP_Change\"]] = (drop_exporters_impact.APP_year_to / drop_exporters_impact.APP_year_from) - 1"
   ]
  },
  {
   "cell_type": "code",
   "execution_count": 7,
   "metadata": {},
   "outputs": [
    {
     "data": {
      "text/html": [
       "<div>\n",
       "<style scoped>\n",
       "    .dataframe tbody tr th:only-of-type {\n",
       "        vertical-align: middle;\n",
       "    }\n",
       "\n",
       "    .dataframe tbody tr th {\n",
       "        vertical-align: top;\n",
       "    }\n",
       "\n",
       "    .dataframe thead th {\n",
       "        text-align: right;\n",
       "    }\n",
       "</style>\n",
       "<table border=\"1\" class=\"dataframe\">\n",
       "  <thead>\n",
       "    <tr style=\"text-align: right;\">\n",
       "      <th></th>\n",
       "      <th>affected_importer</th>\n",
       "      <th>year_from_value</th>\n",
       "      <th>year_to_value</th>\n",
       "      <th>year_from_n_exporters</th>\n",
       "      <th>year_to_n_exporters</th>\n",
       "      <th>year_from</th>\n",
       "      <th>year_to</th>\n",
       "      <th>product_code</th>\n",
       "      <th>exporter_id</th>\n",
       "      <th>drop_pct</th>\n",
       "      <th>importer_drop</th>\n",
       "      <th>APP_year_from</th>\n",
       "      <th>APP_year_to</th>\n",
       "      <th>APP_Change</th>\n",
       "    </tr>\n",
       "  </thead>\n",
       "  <tbody>\n",
       "    <tr>\n",
       "      <th>0</th>\n",
       "      <td>276</td>\n",
       "      <td>2.339764e+09</td>\n",
       "      <td>3.153808e+09</td>\n",
       "      <td>517.0</td>\n",
       "      <td>525.0</td>\n",
       "      <td>2012</td>\n",
       "      <td>2013</td>\n",
       "      <td>86</td>\n",
       "      <td>4</td>\n",
       "      <td>-0.584686</td>\n",
       "      <td>0.347917</td>\n",
       "      <td>4.857616</td>\n",
       "      <td>4.935438</td>\n",
       "      <td>0.016021</td>\n",
       "    </tr>\n",
       "    <tr>\n",
       "      <th>1</th>\n",
       "      <td>528</td>\n",
       "      <td>7.063663e+08</td>\n",
       "      <td>4.552369e+08</td>\n",
       "      <td>298.0</td>\n",
       "      <td>309.0</td>\n",
       "      <td>2012</td>\n",
       "      <td>2013</td>\n",
       "      <td>86</td>\n",
       "      <td>4</td>\n",
       "      <td>-0.584686</td>\n",
       "      <td>-0.355523</td>\n",
       "      <td>4.857616</td>\n",
       "      <td>4.935438</td>\n",
       "      <td>0.016021</td>\n",
       "    </tr>\n",
       "    <tr>\n",
       "      <th>2</th>\n",
       "      <td>586</td>\n",
       "      <td>1.444143e+08</td>\n",
       "      <td>6.381490e+07</td>\n",
       "      <td>58.0</td>\n",
       "      <td>54.0</td>\n",
       "      <td>2012</td>\n",
       "      <td>2013</td>\n",
       "      <td>86</td>\n",
       "      <td>4</td>\n",
       "      <td>-0.584686</td>\n",
       "      <td>-0.558112</td>\n",
       "      <td>4.857616</td>\n",
       "      <td>4.935438</td>\n",
       "      <td>0.016021</td>\n",
       "    </tr>\n",
       "  </tbody>\n",
       "</table>\n",
       "</div>"
      ],
      "text/plain": [
       "   affected_importer  year_from_value  year_to_value  year_from_n_exporters  \\\n",
       "0                276     2.339764e+09   3.153808e+09                  517.0   \n",
       "1                528     7.063663e+08   4.552369e+08                  298.0   \n",
       "2                586     1.444143e+08   6.381490e+07                   58.0   \n",
       "\n",
       "   year_to_n_exporters  year_from  year_to product_code  exporter_id  \\\n",
       "0                525.0       2012     2013           86            4   \n",
       "1                309.0       2012     2013           86            4   \n",
       "2                 54.0       2012     2013           86            4   \n",
       "\n",
       "   drop_pct  importer_drop  APP_year_from  APP_year_to  APP_Change  \n",
       "0 -0.584686       0.347917       4.857616     4.935438    0.016021  \n",
       "1 -0.584686      -0.355523       4.857616     4.935438    0.016021  \n",
       "2 -0.584686      -0.558112       4.857616     4.935438    0.016021  "
      ]
     },
     "execution_count": 7,
     "metadata": {},
     "output_type": "execute_result"
    }
   ],
   "source": [
    "drop_exporters_impact.head(3)"
   ]
  },
  {
   "cell_type": "markdown",
   "metadata": {},
   "source": [
    "We need to find the products that 'affected importer' was importing from 'lost exporters' at 'year from', then add the avg. price paid by importer and avg. price of the commodity, then do the same for 'year to', and calculate the ratios."
   ]
  },
  {
   "cell_type": "code",
   "execution_count": 8,
   "metadata": {},
   "outputs": [],
   "source": [
    "# Get Avg. Price Product (APP) for year from\n",
    "drop_exporters_impact = drop_exporters_impact.merge(avg_prices_per_importer[[\"importer\", \"product_code\", \"year\", \"price\"]], \\\n",
    "                                                    left_on=[\"affected_importer\", \"product_code\", \"year_from\"], \\\n",
    "                                                    right_on=[\"importer\", \"product_code\", \"year\"], how=\"left\")\n",
    "drop_exporters_impact.drop([\"importer\", \"year\"], axis=1, inplace=True)\n",
    "drop_exporters_impact.rename(columns={\"price\": \"CPP_year_from\"}, inplace=True)\n",
    "# Get Avg. Price Product (APP) for year to\n",
    "drop_exporters_impact = drop_exporters_impact.merge(avg_prices_per_importer[[\"importer\", \"product_code\", \"year\", \"price\"]], \\\n",
    "                                                    left_on=[\"affected_importer\", \"product_code\", \"year_to\"], \\\n",
    "                                                    right_on=[\"importer\", \"product_code\", \"year\"], how=\"left\")\n",
    "drop_exporters_impact.drop([\"importer\", \"year\"], axis=1, inplace=True)\n",
    "drop_exporters_impact.rename(columns={\"price\": \"CPP_year_to\"}, inplace=True)\n",
    "# APP Change\n",
    "drop_exporters_impact.loc[:, [\"expected_change\"]] = drop_exporters_impact.CPP_year_from * (1+drop_exporters_impact.APP_Change)"
   ]
  },
  {
   "cell_type": "code",
   "execution_count": 9,
   "metadata": {},
   "outputs": [],
   "source": [
    "drop_exporters_impact[\"net_change\"] = (drop_exporters_impact.CPP_year_to / drop_exporters_impact.expected_change) - 1"
   ]
  },
  {
   "cell_type": "code",
   "execution_count": 10,
   "metadata": {},
   "outputs": [
    {
     "data": {
      "text/html": [
       "<div>\n",
       "<style scoped>\n",
       "    .dataframe tbody tr th:only-of-type {\n",
       "        vertical-align: middle;\n",
       "    }\n",
       "\n",
       "    .dataframe tbody tr th {\n",
       "        vertical-align: top;\n",
       "    }\n",
       "\n",
       "    .dataframe thead th {\n",
       "        text-align: right;\n",
       "    }\n",
       "</style>\n",
       "<table border=\"1\" class=\"dataframe\">\n",
       "  <thead>\n",
       "    <tr style=\"text-align: right;\">\n",
       "      <th></th>\n",
       "      <th>affected_importer</th>\n",
       "      <th>year_from</th>\n",
       "      <th>year_to</th>\n",
       "      <th>APP_year_from</th>\n",
       "      <th>APP_year_to</th>\n",
       "      <th>CPP_year_from</th>\n",
       "      <th>CPP_year_to</th>\n",
       "      <th>expected_change</th>\n",
       "      <th>net_change</th>\n",
       "    </tr>\n",
       "  </thead>\n",
       "  <tbody>\n",
       "    <tr>\n",
       "      <th>457</th>\n",
       "      <td>8</td>\n",
       "      <td>2012</td>\n",
       "      <td>2013</td>\n",
       "      <td>3.02615</td>\n",
       "      <td>3.099866</td>\n",
       "      <td>1.897458</td>\n",
       "      <td>1.919112</td>\n",
       "      <td>1.943678</td>\n",
       "      <td>-0.012639</td>\n",
       "    </tr>\n",
       "  </tbody>\n",
       "</table>\n",
       "</div>"
      ],
      "text/plain": [
       "     affected_importer  year_from  year_to  APP_year_from  APP_year_to  \\\n",
       "457                  8       2012     2013        3.02615     3.099866   \n",
       "\n",
       "     CPP_year_from  CPP_year_to  expected_change  net_change  \n",
       "457       1.897458     1.919112         1.943678   -0.012639  "
      ]
     },
     "execution_count": 10,
     "metadata": {},
     "output_type": "execute_result"
    }
   ],
   "source": [
    "drop_exporters_impact[(drop_exporters_impact.product_code == \"01\") & (drop_exporters_impact.year_from == 2012) & (drop_exporters_impact.affected_importer == 8)][[\"affected_importer\", \"year_from\", \"year_to\", \"APP_year_from\", \"APP_year_to\", \"CPP_year_from\", \"CPP_year_to\", \"expected_change\", \"net_change\"]]"
   ]
  },
  {
   "cell_type": "markdown",
   "metadata": {},
   "source": [
    "Apply conditions for affected label"
   ]
  },
  {
   "cell_type": "code",
   "execution_count": 11,
   "metadata": {},
   "outputs": [],
   "source": [
    "affected_importers = drop_exporters_impact[(drop_exporters_impact.importer_drop <= -0.2) | (drop_exporters_impact.net_change >= 0.2)]"
   ]
  },
  {
   "cell_type": "markdown",
   "metadata": {},
   "source": [
    "Make sure all labels are present"
   ]
  },
  {
   "cell_type": "code",
   "execution_count": 13,
   "metadata": {},
   "outputs": [],
   "source": [
    "reporters = pd.read_csv(f\"{data_paths['uncomtrade']}/reporters.csv\")\n",
    "reporters.rename(columns={\"reporterCode\": \"country_id\"}, inplace=True)\n",
    "all_countries.update(reporters.country_id) # Add countries from reporters (UN Comtrade)\n",
    "\n",
    "# Generate all combinations\n",
    "all_combinations = pd.DataFrame(itertools.product(all_countries, list(range(2012,2022)), \\\n",
    "                                                  list([f'{x:02d}' for x in range(1, 99) if x not in [77, 98]])), columns=['country_id', 'year', 'product_code'])"
   ]
  },
  {
   "cell_type": "code",
   "execution_count": 14,
   "metadata": {},
   "outputs": [
    {
     "data": {
      "text/html": [
       "<div>\n",
       "<style scoped>\n",
       "    .dataframe tbody tr th:only-of-type {\n",
       "        vertical-align: middle;\n",
       "    }\n",
       "\n",
       "    .dataframe tbody tr th {\n",
       "        vertical-align: top;\n",
       "    }\n",
       "\n",
       "    .dataframe thead th {\n",
       "        text-align: right;\n",
       "    }\n",
       "</style>\n",
       "<table border=\"1\" class=\"dataframe\">\n",
       "  <thead>\n",
       "    <tr style=\"text-align: right;\">\n",
       "      <th></th>\n",
       "      <th>affected_importer</th>\n",
       "      <th>year_from_value</th>\n",
       "      <th>year_to_value</th>\n",
       "      <th>year_from_n_exporters</th>\n",
       "      <th>year_to_n_exporters</th>\n",
       "      <th>year_from</th>\n",
       "      <th>year_to</th>\n",
       "      <th>product_code</th>\n",
       "      <th>exporter_id</th>\n",
       "      <th>drop_pct</th>\n",
       "      <th>importer_drop</th>\n",
       "      <th>APP_year_from</th>\n",
       "      <th>APP_year_to</th>\n",
       "      <th>APP_Change</th>\n",
       "      <th>CPP_year_from</th>\n",
       "      <th>CPP_year_to</th>\n",
       "      <th>expected_change</th>\n",
       "      <th>net_change</th>\n",
       "    </tr>\n",
       "  </thead>\n",
       "  <tbody>\n",
       "    <tr>\n",
       "      <th>0</th>\n",
       "      <td>276</td>\n",
       "      <td>2.339764e+09</td>\n",
       "      <td>3.153808e+09</td>\n",
       "      <td>517.0</td>\n",
       "      <td>525.0</td>\n",
       "      <td>2012</td>\n",
       "      <td>2013</td>\n",
       "      <td>86</td>\n",
       "      <td>4</td>\n",
       "      <td>-0.584686</td>\n",
       "      <td>0.347917</td>\n",
       "      <td>4.857616</td>\n",
       "      <td>4.935438</td>\n",
       "      <td>0.016021</td>\n",
       "      <td>4.960357</td>\n",
       "      <td>7.298090</td>\n",
       "      <td>5.039825</td>\n",
       "      <td>0.448084</td>\n",
       "    </tr>\n",
       "    <tr>\n",
       "      <th>1</th>\n",
       "      <td>528</td>\n",
       "      <td>7.063663e+08</td>\n",
       "      <td>4.552369e+08</td>\n",
       "      <td>298.0</td>\n",
       "      <td>309.0</td>\n",
       "      <td>2012</td>\n",
       "      <td>2013</td>\n",
       "      <td>86</td>\n",
       "      <td>4</td>\n",
       "      <td>-0.584686</td>\n",
       "      <td>-0.355523</td>\n",
       "      <td>4.857616</td>\n",
       "      <td>4.935438</td>\n",
       "      <td>0.016021</td>\n",
       "      <td>4.841990</td>\n",
       "      <td>1.864074</td>\n",
       "      <td>4.919562</td>\n",
       "      <td>-0.621089</td>\n",
       "    </tr>\n",
       "    <tr>\n",
       "      <th>2</th>\n",
       "      <td>586</td>\n",
       "      <td>1.444143e+08</td>\n",
       "      <td>6.381490e+07</td>\n",
       "      <td>58.0</td>\n",
       "      <td>54.0</td>\n",
       "      <td>2012</td>\n",
       "      <td>2013</td>\n",
       "      <td>86</td>\n",
       "      <td>4</td>\n",
       "      <td>-0.584686</td>\n",
       "      <td>-0.558112</td>\n",
       "      <td>4.857616</td>\n",
       "      <td>4.935438</td>\n",
       "      <td>0.016021</td>\n",
       "      <td>18.398550</td>\n",
       "      <td>8.800903</td>\n",
       "      <td>18.693305</td>\n",
       "      <td>-0.529195</td>\n",
       "    </tr>\n",
       "    <tr>\n",
       "      <th>6</th>\n",
       "      <td>528</td>\n",
       "      <td>7.275954e+07</td>\n",
       "      <td>1.475283e+08</td>\n",
       "      <td>145.0</td>\n",
       "      <td>159.0</td>\n",
       "      <td>2012</td>\n",
       "      <td>2013</td>\n",
       "      <td>93</td>\n",
       "      <td>4</td>\n",
       "      <td>-0.736298</td>\n",
       "      <td>1.027615</td>\n",
       "      <td>31.745987</td>\n",
       "      <td>33.384077</td>\n",
       "      <td>0.051600</td>\n",
       "      <td>40.542424</td>\n",
       "      <td>65.215549</td>\n",
       "      <td>42.634410</td>\n",
       "      <td>0.529646</td>\n",
       "    </tr>\n",
       "    <tr>\n",
       "      <th>7</th>\n",
       "      <td>276</td>\n",
       "      <td>3.664020e+07</td>\n",
       "      <td>3.889862e+07</td>\n",
       "      <td>143.0</td>\n",
       "      <td>141.0</td>\n",
       "      <td>2012</td>\n",
       "      <td>2013</td>\n",
       "      <td>14</td>\n",
       "      <td>8</td>\n",
       "      <td>-0.238721</td>\n",
       "      <td>0.061638</td>\n",
       "      <td>0.344513</td>\n",
       "      <td>0.338611</td>\n",
       "      <td>-0.017133</td>\n",
       "      <td>0.545503</td>\n",
       "      <td>0.813757</td>\n",
       "      <td>0.536157</td>\n",
       "      <td>0.517759</td>\n",
       "    </tr>\n",
       "  </tbody>\n",
       "</table>\n",
       "</div>"
      ],
      "text/plain": [
       "   affected_importer  year_from_value  year_to_value  year_from_n_exporters  \\\n",
       "0                276     2.339764e+09   3.153808e+09                  517.0   \n",
       "1                528     7.063663e+08   4.552369e+08                  298.0   \n",
       "2                586     1.444143e+08   6.381490e+07                   58.0   \n",
       "6                528     7.275954e+07   1.475283e+08                  145.0   \n",
       "7                276     3.664020e+07   3.889862e+07                  143.0   \n",
       "\n",
       "   year_to_n_exporters  year_from  year_to product_code  exporter_id  \\\n",
       "0                525.0       2012     2013           86            4   \n",
       "1                309.0       2012     2013           86            4   \n",
       "2                 54.0       2012     2013           86            4   \n",
       "6                159.0       2012     2013           93            4   \n",
       "7                141.0       2012     2013           14            8   \n",
       "\n",
       "   drop_pct  importer_drop  APP_year_from  APP_year_to  APP_Change  \\\n",
       "0 -0.584686       0.347917       4.857616     4.935438    0.016021   \n",
       "1 -0.584686      -0.355523       4.857616     4.935438    0.016021   \n",
       "2 -0.584686      -0.558112       4.857616     4.935438    0.016021   \n",
       "6 -0.736298       1.027615      31.745987    33.384077    0.051600   \n",
       "7 -0.238721       0.061638       0.344513     0.338611   -0.017133   \n",
       "\n",
       "   CPP_year_from  CPP_year_to  expected_change  net_change  \n",
       "0       4.960357     7.298090         5.039825    0.448084  \n",
       "1       4.841990     1.864074         4.919562   -0.621089  \n",
       "2      18.398550     8.800903        18.693305   -0.529195  \n",
       "6      40.542424    65.215549        42.634410    0.529646  \n",
       "7       0.545503     0.813757         0.536157    0.517759  "
      ]
     },
     "execution_count": 14,
     "metadata": {},
     "output_type": "execute_result"
    }
   ],
   "source": [
    "affected_importers.head()"
   ]
  },
  {
   "cell_type": "code",
   "execution_count": 15,
   "metadata": {},
   "outputs": [
    {
     "name": "stdout",
     "output_type": "stream",
     "text": [
      "<class 'pandas.core.frame.DataFrame'>\n",
      "Index: 6409 entries, 0 to 26664\n",
      "Data columns (total 18 columns):\n",
      " #   Column                 Non-Null Count  Dtype  \n",
      "---  ------                 --------------  -----  \n",
      " 0   affected_importer      6409 non-null   int64  \n",
      " 1   year_from_value        6409 non-null   float64\n",
      " 2   year_to_value          6409 non-null   float64\n",
      " 3   year_from_n_exporters  6409 non-null   float64\n",
      " 4   year_to_n_exporters    6409 non-null   float64\n",
      " 5   year_from              6409 non-null   int64  \n",
      " 6   year_to                6409 non-null   int64  \n",
      " 7   product_code           6409 non-null   object \n",
      " 8   exporter_id            6409 non-null   int64  \n",
      " 9   drop_pct               6409 non-null   float64\n",
      " 10  importer_drop          6409 non-null   float64\n",
      " 11  APP_year_from          6028 non-null   float64\n",
      " 12  APP_year_to            6028 non-null   float64\n",
      " 13  APP_Change             6028 non-null   float64\n",
      " 14  CPP_year_from          5814 non-null   float64\n",
      " 15  CPP_year_to            5802 non-null   float64\n",
      " 16  expected_change        5814 non-null   float64\n",
      " 17  net_change             5801 non-null   float64\n",
      "dtypes: float64(13), int64(4), object(1)\n",
      "memory usage: 951.3+ KB\n"
     ]
    }
   ],
   "source": [
    "affected_importers.info()"
   ]
  },
  {
   "cell_type": "code",
   "execution_count": 16,
   "metadata": {},
   "outputs": [
    {
     "name": "stderr",
     "output_type": "stream",
     "text": [
      "C:\\Users\\ginof\\AppData\\Local\\Temp\\ipykernel_27104\\3713369678.py:1: SettingWithCopyWarning: \n",
      "A value is trying to be set on a copy of a slice from a DataFrame\n",
      "\n",
      "See the caveats in the documentation: https://pandas.pydata.org/pandas-docs/stable/user_guide/indexing.html#returning-a-view-versus-a-copy\n",
      "  affected_importers.fillna(0, inplace=True)\n"
     ]
    }
   ],
   "source": [
    "affected_importers.fillna(0, inplace=True)"
   ]
  },
  {
   "cell_type": "code",
   "execution_count": 17,
   "metadata": {},
   "outputs": [
    {
     "name": "stderr",
     "output_type": "stream",
     "text": [
      "C:\\Users\\ginof\\AppData\\Local\\Temp\\ipykernel_27104\\373663775.py:1: SettingWithCopyWarning: \n",
      "A value is trying to be set on a copy of a slice from a DataFrame.\n",
      "Try using .loc[row_indexer,col_indexer] = value instead\n",
      "\n",
      "See the caveats in the documentation: https://pandas.pydata.org/pandas-docs/stable/user_guide/indexing.html#returning-a-view-versus-a-copy\n",
      "  affected_importers[\"label\"] = \"affected_importer\"\n",
      "C:\\Users\\ginof\\AppData\\Local\\Temp\\ipykernel_27104\\373663775.py:2: SettingWithCopyWarning: \n",
      "A value is trying to be set on a copy of a slice from a DataFrame\n",
      "\n",
      "See the caveats in the documentation: https://pandas.pydata.org/pandas-docs/stable/user_guide/indexing.html#returning-a-view-versus-a-copy\n",
      "  affected_importers.rename(columns={\"affected_importer\": \"country_id\", \"year_from\": \"year\"}, inplace=True)\n"
     ]
    }
   ],
   "source": [
    "affected_importers[\"label\"] = \"affected_importer\"\n",
    "affected_importers.rename(columns={\"affected_importer\": \"country_id\", \"year_from\": \"year\"}, inplace=True)\n",
    "affected_importers = all_combinations.merge(affected_importers[[\"country_id\", \"year\", \"product_code\", \"label\"]], on=[\"year\", \"product_code\", \"country_id\"], how=\"left\")\n",
    "affected_importers.fillna(\"not_affected\", inplace=True)"
   ]
  },
  {
   "cell_type": "code",
   "execution_count": 18,
   "metadata": {},
   "outputs": [
    {
     "data": {
      "text/html": [
       "<div>\n",
       "<style scoped>\n",
       "    .dataframe tbody tr th:only-of-type {\n",
       "        vertical-align: middle;\n",
       "    }\n",
       "\n",
       "    .dataframe tbody tr th {\n",
       "        vertical-align: top;\n",
       "    }\n",
       "\n",
       "    .dataframe thead th {\n",
       "        text-align: right;\n",
       "    }\n",
       "</style>\n",
       "<table border=\"1\" class=\"dataframe\">\n",
       "  <thead>\n",
       "    <tr style=\"text-align: right;\">\n",
       "      <th></th>\n",
       "      <th>country_id</th>\n",
       "      <th>year</th>\n",
       "      <th>product_code</th>\n",
       "      <th>label</th>\n",
       "    </tr>\n",
       "  </thead>\n",
       "  <tbody>\n",
       "    <tr>\n",
       "      <th>0</th>\n",
       "      <td>512</td>\n",
       "      <td>2012</td>\n",
       "      <td>01</td>\n",
       "      <td>not_affected</td>\n",
       "    </tr>\n",
       "    <tr>\n",
       "      <th>1</th>\n",
       "      <td>512</td>\n",
       "      <td>2012</td>\n",
       "      <td>02</td>\n",
       "      <td>not_affected</td>\n",
       "    </tr>\n",
       "    <tr>\n",
       "      <th>2</th>\n",
       "      <td>512</td>\n",
       "      <td>2012</td>\n",
       "      <td>03</td>\n",
       "      <td>not_affected</td>\n",
       "    </tr>\n",
       "  </tbody>\n",
       "</table>\n",
       "</div>"
      ],
      "text/plain": [
       "   country_id  year product_code         label\n",
       "0         512  2012           01  not_affected\n",
       "1         512  2012           02  not_affected\n",
       "2         512  2012           03  not_affected"
      ]
     },
     "execution_count": 18,
     "metadata": {},
     "output_type": "execute_result"
    }
   ],
   "source": [
    "affected_importers.head(3)"
   ]
  },
  {
   "cell_type": "code",
   "execution_count": 19,
   "metadata": {},
   "outputs": [
    {
     "data": {
      "text/plain": [
       "year  product_code  label            \n",
       "2012  01            affected_importer     10\n",
       "                    not_affected         266\n",
       "      02            affected_importer      3\n",
       "                    not_affected         273\n",
       "      03            affected_importer      2\n",
       "                                        ... \n",
       "2021  95            affected_importer      2\n",
       "                    not_affected         274\n",
       "      96            not_affected         276\n",
       "      97            affected_importer     24\n",
       "                    not_affected         256\n",
       "Length: 1581, dtype: int64"
      ]
     },
     "execution_count": 19,
     "metadata": {},
     "output_type": "execute_result"
    }
   ],
   "source": [
    "affected_importers.groupby([\"year\", \"product_code\", \"label\"]).size()"
   ]
  },
  {
   "cell_type": "code",
   "execution_count": 20,
   "metadata": {},
   "outputs": [],
   "source": [
    "#affected_importers.sort_values([\"year\", \"product_code\", \"country_id\"])[[\"year\", \"product_code\", \"country_id\", \"label\"]].to_csv(\"labels-affected_importers.csv\", index=False)"
   ]
  }
 ],
 "metadata": {
  "kernelspec": {
   "display_name": "thesis",
   "language": "python",
   "name": "python3"
  },
  "language_info": {
   "codemirror_mode": {
    "name": "ipython",
    "version": 3
   },
   "file_extension": ".py",
   "mimetype": "text/x-python",
   "name": "python",
   "nbconvert_exporter": "python",
   "pygments_lexer": "ipython3",
   "version": "3.9.21"
  }
 },
 "nbformat": 4,
 "nbformat_minor": 2
}
