{
 "cells": [
  {
   "cell_type": "code",
   "execution_count": 1,
   "id": "748f51b8",
   "metadata": {},
   "outputs": [],
   "source": [
    "import pandas as pd\n",
    "import numpy as np\n",
    "import matplotlib.pyplot as plt\n",
    "import seaborn as sns\n",
    "from scipy.stats import spearmanr\n",
    "from utils import *"
   ]
  },
  {
   "cell_type": "code",
   "execution_count": 2,
   "id": "b5997b35",
   "metadata": {},
   "outputs": [],
   "source": [
    "countries = pd.read_csv(f\"{data_paths['atlas']}/countries.csv\", encoding=\"latin1\")"
   ]
  },
  {
   "cell_type": "code",
   "execution_count": 3,
   "id": "0abb20e0",
   "metadata": {},
   "outputs": [],
   "source": [
    "trustworthiness = pd.read_csv(f\"{data_paths['graphs_data']}/trustworthiness_scores.csv\", dtype={\"cmd\": str})\n",
    "\n",
    "discrepancy = []\n",
    "for i, y in enumerate(range(2017, 2023), start=1):\n",
    "    _ = pd.read_csv(f\"{data_paths['additional']}/4.2.{i} DISCREPANCY_INDEX_H5_{y}_csv.zip\", dtype={\"ProductCode\": str})\n",
    "    _ = _[[\"CountryA\", \"ProductCode\", \"Year\", \"DI\"]]\n",
    "    discrepancy.append(_)\n",
    "discrepancy = pd.concat(discrepancy, ignore_index=True)"
   ]
  },
  {
   "cell_type": "code",
   "execution_count": 4,
   "id": "e01c4ca1",
   "metadata": {},
   "outputs": [
    {
     "data": {
      "text/html": [
       "<div>\n",
       "<style scoped>\n",
       "    .dataframe tbody tr th:only-of-type {\n",
       "        vertical-align: middle;\n",
       "    }\n",
       "\n",
       "    .dataframe tbody tr th {\n",
       "        vertical-align: top;\n",
       "    }\n",
       "\n",
       "    .dataframe thead th {\n",
       "        text-align: right;\n",
       "    }\n",
       "</style>\n",
       "<table border=\"1\" class=\"dataframe\">\n",
       "  <thead>\n",
       "    <tr style=\"text-align: right;\">\n",
       "      <th></th>\n",
       "      <th>country_id</th>\n",
       "      <th>year</th>\n",
       "      <th>cmd</th>\n",
       "      <th>trustworthiness</th>\n",
       "    </tr>\n",
       "  </thead>\n",
       "  <tbody>\n",
       "    <tr>\n",
       "      <th>0</th>\n",
       "      <td>4</td>\n",
       "      <td>2012</td>\n",
       "      <td>01</td>\n",
       "      <td>0.000000</td>\n",
       "    </tr>\n",
       "    <tr>\n",
       "      <th>1</th>\n",
       "      <td>4</td>\n",
       "      <td>2012</td>\n",
       "      <td>02</td>\n",
       "      <td>0.000000</td>\n",
       "    </tr>\n",
       "    <tr>\n",
       "      <th>2</th>\n",
       "      <td>4</td>\n",
       "      <td>2012</td>\n",
       "      <td>03</td>\n",
       "      <td>0.363488</td>\n",
       "    </tr>\n",
       "    <tr>\n",
       "      <th>3</th>\n",
       "      <td>4</td>\n",
       "      <td>2012</td>\n",
       "      <td>04</td>\n",
       "      <td>0.300776</td>\n",
       "    </tr>\n",
       "    <tr>\n",
       "      <th>4</th>\n",
       "      <td>4</td>\n",
       "      <td>2012</td>\n",
       "      <td>05</td>\n",
       "      <td>0.011893</td>\n",
       "    </tr>\n",
       "  </tbody>\n",
       "</table>\n",
       "</div>"
      ],
      "text/plain": [
       "   country_id  year cmd  trustworthiness\n",
       "0           4  2012  01         0.000000\n",
       "1           4  2012  02         0.000000\n",
       "2           4  2012  03         0.363488\n",
       "3           4  2012  04         0.300776\n",
       "4           4  2012  05         0.011893"
      ]
     },
     "execution_count": 4,
     "metadata": {},
     "output_type": "execute_result"
    }
   ],
   "source": [
    "trustworthiness.head()"
   ]
  },
  {
   "cell_type": "code",
   "execution_count": 5,
   "id": "57b1ac7c",
   "metadata": {},
   "outputs": [
    {
     "data": {
      "text/html": [
       "<div>\n",
       "<style scoped>\n",
       "    .dataframe tbody tr th:only-of-type {\n",
       "        vertical-align: middle;\n",
       "    }\n",
       "\n",
       "    .dataframe tbody tr th {\n",
       "        vertical-align: top;\n",
       "    }\n",
       "\n",
       "    .dataframe thead th {\n",
       "        text-align: right;\n",
       "    }\n",
       "</style>\n",
       "<table border=\"1\" class=\"dataframe\">\n",
       "  <thead>\n",
       "    <tr style=\"text-align: right;\">\n",
       "      <th></th>\n",
       "      <th>CountryA</th>\n",
       "      <th>ProductCode</th>\n",
       "      <th>Year</th>\n",
       "      <th>DI</th>\n",
       "    </tr>\n",
       "  </thead>\n",
       "  <tbody>\n",
       "    <tr>\n",
       "      <th>0</th>\n",
       "      <td>ARE</td>\n",
       "      <td>01</td>\n",
       "      <td>2017</td>\n",
       "      <td>1.000000</td>\n",
       "    </tr>\n",
       "    <tr>\n",
       "      <th>1</th>\n",
       "      <td>ARM</td>\n",
       "      <td>01</td>\n",
       "      <td>2017</td>\n",
       "      <td>0.057946</td>\n",
       "    </tr>\n",
       "    <tr>\n",
       "      <th>2</th>\n",
       "      <td>BRA</td>\n",
       "      <td>01</td>\n",
       "      <td>2017</td>\n",
       "      <td>-0.931879</td>\n",
       "    </tr>\n",
       "    <tr>\n",
       "      <th>3</th>\n",
       "      <td>CAN</td>\n",
       "      <td>01</td>\n",
       "      <td>2017</td>\n",
       "      <td>-1.000000</td>\n",
       "    </tr>\n",
       "    <tr>\n",
       "      <th>4</th>\n",
       "      <td>CAN</td>\n",
       "      <td>01</td>\n",
       "      <td>2017</td>\n",
       "      <td>-1.000000</td>\n",
       "    </tr>\n",
       "  </tbody>\n",
       "</table>\n",
       "</div>"
      ],
      "text/plain": [
       "  CountryA ProductCode  Year        DI\n",
       "0      ARE          01  2017  1.000000\n",
       "1      ARM          01  2017  0.057946\n",
       "2      BRA          01  2017 -0.931879\n",
       "3      CAN          01  2017 -1.000000\n",
       "4      CAN          01  2017 -1.000000"
      ]
     },
     "execution_count": 5,
     "metadata": {},
     "output_type": "execute_result"
    }
   ],
   "source": [
    "discrepancy.head()"
   ]
  },
  {
   "cell_type": "markdown",
   "id": "743219d3",
   "metadata": {},
   "source": [
    "Convert all discrepancies to positive (ignore the 'direction' of the discrepancy)"
   ]
  },
  {
   "cell_type": "code",
   "execution_count": 6,
   "id": "e35e4766",
   "metadata": {},
   "outputs": [],
   "source": [
    "discrepancy.loc[:, \"DI\"] = np.abs(discrepancy.DI)"
   ]
  },
  {
   "cell_type": "markdown",
   "id": "c292675d",
   "metadata": {},
   "source": [
    "Reduce ProductCode to single 2 digits"
   ]
  },
  {
   "cell_type": "code",
   "execution_count": 7,
   "id": "c4287397",
   "metadata": {},
   "outputs": [],
   "source": [
    "discrepancy.loc[:, \"ProductCode\"] = discrepancy[\"ProductCode\"].str[:2]"
   ]
  },
  {
   "cell_type": "markdown",
   "id": "0cf72994",
   "metadata": {},
   "source": [
    "Aggregate by Year & Commodity"
   ]
  },
  {
   "cell_type": "code",
   "execution_count": 8,
   "id": "0ff5dd46",
   "metadata": {},
   "outputs": [],
   "source": [
    "discrepancy = discrepancy.groupby([\"CountryA\", \"Year\", \"ProductCode\"]).mean().reset_index()"
   ]
  },
  {
   "cell_type": "markdown",
   "id": "7e91a5d7",
   "metadata": {},
   "source": [
    "Add Country ID"
   ]
  },
  {
   "cell_type": "code",
   "execution_count": 9,
   "id": "ee31b0ee",
   "metadata": {},
   "outputs": [
    {
     "data": {
      "text/html": [
       "<div>\n",
       "<style scoped>\n",
       "    .dataframe tbody tr th:only-of-type {\n",
       "        vertical-align: middle;\n",
       "    }\n",
       "\n",
       "    .dataframe tbody tr th {\n",
       "        vertical-align: top;\n",
       "    }\n",
       "\n",
       "    .dataframe thead th {\n",
       "        text-align: right;\n",
       "    }\n",
       "</style>\n",
       "<table border=\"1\" class=\"dataframe\">\n",
       "  <thead>\n",
       "    <tr style=\"text-align: right;\">\n",
       "      <th></th>\n",
       "      <th>CountryA</th>\n",
       "      <th>Year</th>\n",
       "      <th>ProductCode</th>\n",
       "      <th>DI</th>\n",
       "      <th>iso_code</th>\n",
       "      <th>country_id</th>\n",
       "    </tr>\n",
       "  </thead>\n",
       "  <tbody>\n",
       "    <tr>\n",
       "      <th>0</th>\n",
       "      <td>ABW</td>\n",
       "      <td>2017</td>\n",
       "      <td>01</td>\n",
       "      <td>1.0</td>\n",
       "      <td>ABW</td>\n",
       "      <td>533</td>\n",
       "    </tr>\n",
       "    <tr>\n",
       "      <th>1</th>\n",
       "      <td>ABW</td>\n",
       "      <td>2017</td>\n",
       "      <td>02</td>\n",
       "      <td>1.0</td>\n",
       "      <td>ABW</td>\n",
       "      <td>533</td>\n",
       "    </tr>\n",
       "    <tr>\n",
       "      <th>2</th>\n",
       "      <td>ABW</td>\n",
       "      <td>2017</td>\n",
       "      <td>03</td>\n",
       "      <td>1.0</td>\n",
       "      <td>ABW</td>\n",
       "      <td>533</td>\n",
       "    </tr>\n",
       "    <tr>\n",
       "      <th>3</th>\n",
       "      <td>ABW</td>\n",
       "      <td>2017</td>\n",
       "      <td>04</td>\n",
       "      <td>1.0</td>\n",
       "      <td>ABW</td>\n",
       "      <td>533</td>\n",
       "    </tr>\n",
       "    <tr>\n",
       "      <th>4</th>\n",
       "      <td>ABW</td>\n",
       "      <td>2017</td>\n",
       "      <td>05</td>\n",
       "      <td>1.0</td>\n",
       "      <td>ABW</td>\n",
       "      <td>533</td>\n",
       "    </tr>\n",
       "  </tbody>\n",
       "</table>\n",
       "</div>"
      ],
      "text/plain": [
       "  CountryA  Year ProductCode   DI iso_code  country_id\n",
       "0      ABW  2017          01  1.0      ABW         533\n",
       "1      ABW  2017          02  1.0      ABW         533\n",
       "2      ABW  2017          03  1.0      ABW         533\n",
       "3      ABW  2017          04  1.0      ABW         533\n",
       "4      ABW  2017          05  1.0      ABW         533"
      ]
     },
     "execution_count": 9,
     "metadata": {},
     "output_type": "execute_result"
    }
   ],
   "source": [
    "discrepancy = discrepancy.merge(countries[[\"iso_code\", \"country_id\"]], left_on=\"CountryA\", right_on=\"iso_code\", how=\"inner\")\n",
    "discrepancy.head()"
   ]
  },
  {
   "cell_type": "code",
   "execution_count": 10,
   "id": "cc464da4",
   "metadata": {},
   "outputs": [],
   "source": [
    "discrepancy.rename(columns={\"Year\": \"year\", \"ProductCode\": \"cmd\"}, inplace=True)"
   ]
  },
  {
   "cell_type": "code",
   "execution_count": 11,
   "id": "da394352",
   "metadata": {},
   "outputs": [
    {
     "data": {
      "text/html": [
       "<div>\n",
       "<style scoped>\n",
       "    .dataframe tbody tr th:only-of-type {\n",
       "        vertical-align: middle;\n",
       "    }\n",
       "\n",
       "    .dataframe tbody tr th {\n",
       "        vertical-align: top;\n",
       "    }\n",
       "\n",
       "    .dataframe thead th {\n",
       "        text-align: right;\n",
       "    }\n",
       "</style>\n",
       "<table border=\"1\" class=\"dataframe\">\n",
       "  <thead>\n",
       "    <tr style=\"text-align: right;\">\n",
       "      <th></th>\n",
       "      <th>country_id</th>\n",
       "      <th>year</th>\n",
       "      <th>cmd</th>\n",
       "      <th>trustworthiness</th>\n",
       "      <th>DI</th>\n",
       "    </tr>\n",
       "  </thead>\n",
       "  <tbody>\n",
       "    <tr>\n",
       "      <th>0</th>\n",
       "      <td>4</td>\n",
       "      <td>2017</td>\n",
       "      <td>01</td>\n",
       "      <td>0.651980</td>\n",
       "      <td>1.0</td>\n",
       "    </tr>\n",
       "    <tr>\n",
       "      <th>1</th>\n",
       "      <td>4</td>\n",
       "      <td>2017</td>\n",
       "      <td>02</td>\n",
       "      <td>1.000000</td>\n",
       "      <td>1.0</td>\n",
       "    </tr>\n",
       "    <tr>\n",
       "      <th>2</th>\n",
       "      <td>4</td>\n",
       "      <td>2017</td>\n",
       "      <td>03</td>\n",
       "      <td>0.000000</td>\n",
       "      <td>1.0</td>\n",
       "    </tr>\n",
       "    <tr>\n",
       "      <th>3</th>\n",
       "      <td>4</td>\n",
       "      <td>2017</td>\n",
       "      <td>04</td>\n",
       "      <td>0.970628</td>\n",
       "      <td>1.0</td>\n",
       "    </tr>\n",
       "    <tr>\n",
       "      <th>4</th>\n",
       "      <td>4</td>\n",
       "      <td>2017</td>\n",
       "      <td>05</td>\n",
       "      <td>0.997369</td>\n",
       "      <td>1.0</td>\n",
       "    </tr>\n",
       "  </tbody>\n",
       "</table>\n",
       "</div>"
      ],
      "text/plain": [
       "   country_id  year cmd  trustworthiness   DI\n",
       "0           4  2017  01         0.651980  1.0\n",
       "1           4  2017  02         1.000000  1.0\n",
       "2           4  2017  03         0.000000  1.0\n",
       "3           4  2017  04         0.970628  1.0\n",
       "4           4  2017  05         0.997369  1.0"
      ]
     },
     "execution_count": 11,
     "metadata": {},
     "output_type": "execute_result"
    }
   ],
   "source": [
    "trust_discr = trustworthiness.merge(discrepancy[[\"country_id\", \"year\", \"cmd\", \"DI\"]], on=[\"country_id\", \"year\", \"cmd\"], how=\"inner\")\n",
    "trust_discr.head()"
   ]
  },
  {
   "cell_type": "code",
   "execution_count": 12,
   "id": "5d8ae982",
   "metadata": {},
   "outputs": [
    {
     "data": {
      "text/plain": [
       "count    119046.000000\n",
       "mean          0.871354\n",
       "std           0.128096\n",
       "min           0.209813\n",
       "25%           0.765985\n",
       "50%           0.879175\n",
       "75%           1.000000\n",
       "max           1.000000\n",
       "Name: DI, dtype: float64"
      ]
     },
     "execution_count": 12,
     "metadata": {},
     "output_type": "execute_result"
    }
   ],
   "source": [
    "trust_discr.DI.describe()"
   ]
  },
  {
   "cell_type": "code",
   "execution_count": 13,
   "id": "dd3c5470",
   "metadata": {},
   "outputs": [
    {
     "data": {
      "text/plain": [
       "SignificanceResult(statistic=-0.6117783528691697, pvalue=0.0)"
      ]
     },
     "execution_count": 13,
     "metadata": {},
     "output_type": "execute_result"
    }
   ],
   "source": [
    "spearmanr(trust_discr[\"DI\"], trust_discr[\"trustworthiness\"])"
   ]
  },
  {
   "cell_type": "markdown",
   "id": "dbd22c93",
   "metadata": {},
   "source": [
    "### Corruption Index"
   ]
  },
  {
   "cell_type": "code",
   "execution_count": 14,
   "id": "775c9942",
   "metadata": {},
   "outputs": [],
   "source": [
    "corruption = pd.read_csv(f\"{data_paths['additional']}/4.3 Corruption Perception Index.csv\")"
   ]
  },
  {
   "cell_type": "code",
   "execution_count": 15,
   "id": "334c6648",
   "metadata": {},
   "outputs": [
    {
     "data": {
      "text/html": [
       "<div>\n",
       "<style scoped>\n",
       "    .dataframe tbody tr th:only-of-type {\n",
       "        vertical-align: middle;\n",
       "    }\n",
       "\n",
       "    .dataframe tbody tr th {\n",
       "        vertical-align: top;\n",
       "    }\n",
       "\n",
       "    .dataframe thead th {\n",
       "        text-align: right;\n",
       "    }\n",
       "</style>\n",
       "<table border=\"1\" class=\"dataframe\">\n",
       "  <thead>\n",
       "    <tr style=\"text-align: right;\">\n",
       "      <th></th>\n",
       "      <th>Country</th>\n",
       "      <th>ISO3</th>\n",
       "      <th>2023</th>\n",
       "      <th>2022</th>\n",
       "      <th>2021</th>\n",
       "      <th>2020</th>\n",
       "      <th>2019</th>\n",
       "      <th>2018</th>\n",
       "      <th>2017</th>\n",
       "      <th>2016</th>\n",
       "      <th>2015</th>\n",
       "      <th>2014</th>\n",
       "      <th>2013</th>\n",
       "      <th>2012</th>\n",
       "    </tr>\n",
       "  </thead>\n",
       "  <tbody>\n",
       "    <tr>\n",
       "      <th>0</th>\n",
       "      <td>Afghanistan</td>\n",
       "      <td>AFG</td>\n",
       "      <td>20.0</td>\n",
       "      <td>24.0</td>\n",
       "      <td>16.0</td>\n",
       "      <td>19.0</td>\n",
       "      <td>16.0</td>\n",
       "      <td>16.0</td>\n",
       "      <td>15.0</td>\n",
       "      <td>15.0</td>\n",
       "      <td>11.0</td>\n",
       "      <td>12.0</td>\n",
       "      <td>8.0</td>\n",
       "      <td>8.0</td>\n",
       "    </tr>\n",
       "    <tr>\n",
       "      <th>1</th>\n",
       "      <td>Albania</td>\n",
       "      <td>ALB</td>\n",
       "      <td>37.0</td>\n",
       "      <td>36.0</td>\n",
       "      <td>35.0</td>\n",
       "      <td>36.0</td>\n",
       "      <td>35.0</td>\n",
       "      <td>36.0</td>\n",
       "      <td>38.0</td>\n",
       "      <td>39.0</td>\n",
       "      <td>36.0</td>\n",
       "      <td>33.0</td>\n",
       "      <td>31.0</td>\n",
       "      <td>33.0</td>\n",
       "    </tr>\n",
       "    <tr>\n",
       "      <th>2</th>\n",
       "      <td>Algeria</td>\n",
       "      <td>DZA</td>\n",
       "      <td>36.0</td>\n",
       "      <td>33.0</td>\n",
       "      <td>33.0</td>\n",
       "      <td>36.0</td>\n",
       "      <td>35.0</td>\n",
       "      <td>35.0</td>\n",
       "      <td>33.0</td>\n",
       "      <td>34.0</td>\n",
       "      <td>36.0</td>\n",
       "      <td>36.0</td>\n",
       "      <td>36.0</td>\n",
       "      <td>34.0</td>\n",
       "    </tr>\n",
       "    <tr>\n",
       "      <th>3</th>\n",
       "      <td>Angola</td>\n",
       "      <td>AGO</td>\n",
       "      <td>33.0</td>\n",
       "      <td>33.0</td>\n",
       "      <td>29.0</td>\n",
       "      <td>27.0</td>\n",
       "      <td>26.0</td>\n",
       "      <td>19.0</td>\n",
       "      <td>19.0</td>\n",
       "      <td>18.0</td>\n",
       "      <td>15.0</td>\n",
       "      <td>19.0</td>\n",
       "      <td>23.0</td>\n",
       "      <td>22.0</td>\n",
       "    </tr>\n",
       "    <tr>\n",
       "      <th>4</th>\n",
       "      <td>Argentina</td>\n",
       "      <td>ARG</td>\n",
       "      <td>37.0</td>\n",
       "      <td>38.0</td>\n",
       "      <td>38.0</td>\n",
       "      <td>42.0</td>\n",
       "      <td>45.0</td>\n",
       "      <td>40.0</td>\n",
       "      <td>39.0</td>\n",
       "      <td>36.0</td>\n",
       "      <td>32.0</td>\n",
       "      <td>34.0</td>\n",
       "      <td>34.0</td>\n",
       "      <td>35.0</td>\n",
       "    </tr>\n",
       "  </tbody>\n",
       "</table>\n",
       "</div>"
      ],
      "text/plain": [
       "       Country ISO3  2023  2022  2021  2020  2019  2018  2017  2016  2015  \\\n",
       "0  Afghanistan  AFG  20.0  24.0  16.0  19.0  16.0  16.0  15.0  15.0  11.0   \n",
       "1      Albania  ALB  37.0  36.0  35.0  36.0  35.0  36.0  38.0  39.0  36.0   \n",
       "2      Algeria  DZA  36.0  33.0  33.0  36.0  35.0  35.0  33.0  34.0  36.0   \n",
       "3       Angola  AGO  33.0  33.0  29.0  27.0  26.0  19.0  19.0  18.0  15.0   \n",
       "4    Argentina  ARG  37.0  38.0  38.0  42.0  45.0  40.0  39.0  36.0  32.0   \n",
       "\n",
       "   2014  2013  2012  \n",
       "0  12.0   8.0   8.0  \n",
       "1  33.0  31.0  33.0  \n",
       "2  36.0  36.0  34.0  \n",
       "3  19.0  23.0  22.0  \n",
       "4  34.0  34.0  35.0  "
      ]
     },
     "execution_count": 15,
     "metadata": {},
     "output_type": "execute_result"
    }
   ],
   "source": [
    "corruption.head()"
   ]
  },
  {
   "cell_type": "code",
   "execution_count": 16,
   "id": "7dc7a60c",
   "metadata": {},
   "outputs": [],
   "source": [
    "corruption = corruption.rename(columns={\"ISO3\": \"iso_code\"})"
   ]
  },
  {
   "cell_type": "code",
   "execution_count": 17,
   "id": "9d2219ec",
   "metadata": {},
   "outputs": [],
   "source": [
    "corruption = corruption.merge(countries[[\"iso_code\", \"country_id\"]], on=\"iso_code\", how=\"inner\")"
   ]
  },
  {
   "cell_type": "code",
   "execution_count": 18,
   "id": "567707cb",
   "metadata": {},
   "outputs": [],
   "source": [
    "corruption = corruption.melt(id_vars=[\"country_id\", \"iso_code\"], var_name=\"year\", value_vars=[f\"{x}\" for x in range(2012, 2024)])\n",
    "corruption[\"year\"] = corruption[\"year\"].astype(int)"
   ]
  },
  {
   "cell_type": "code",
   "execution_count": 19,
   "id": "1a7a3a5c",
   "metadata": {},
   "outputs": [
    {
     "data": {
      "text/html": [
       "<div>\n",
       "<style scoped>\n",
       "    .dataframe tbody tr th:only-of-type {\n",
       "        vertical-align: middle;\n",
       "    }\n",
       "\n",
       "    .dataframe tbody tr th {\n",
       "        vertical-align: top;\n",
       "    }\n",
       "\n",
       "    .dataframe thead th {\n",
       "        text-align: right;\n",
       "    }\n",
       "</style>\n",
       "<table border=\"1\" class=\"dataframe\">\n",
       "  <thead>\n",
       "    <tr style=\"text-align: right;\">\n",
       "      <th></th>\n",
       "      <th>country_id</th>\n",
       "      <th>iso_code</th>\n",
       "      <th>year</th>\n",
       "      <th>value</th>\n",
       "    </tr>\n",
       "  </thead>\n",
       "  <tbody>\n",
       "    <tr>\n",
       "      <th>0</th>\n",
       "      <td>4</td>\n",
       "      <td>AFG</td>\n",
       "      <td>2012</td>\n",
       "      <td>8.0</td>\n",
       "    </tr>\n",
       "    <tr>\n",
       "      <th>1</th>\n",
       "      <td>8</td>\n",
       "      <td>ALB</td>\n",
       "      <td>2012</td>\n",
       "      <td>33.0</td>\n",
       "    </tr>\n",
       "    <tr>\n",
       "      <th>2</th>\n",
       "      <td>12</td>\n",
       "      <td>DZA</td>\n",
       "      <td>2012</td>\n",
       "      <td>34.0</td>\n",
       "    </tr>\n",
       "    <tr>\n",
       "      <th>3</th>\n",
       "      <td>24</td>\n",
       "      <td>AGO</td>\n",
       "      <td>2012</td>\n",
       "      <td>22.0</td>\n",
       "    </tr>\n",
       "    <tr>\n",
       "      <th>4</th>\n",
       "      <td>32</td>\n",
       "      <td>ARG</td>\n",
       "      <td>2012</td>\n",
       "      <td>35.0</td>\n",
       "    </tr>\n",
       "  </tbody>\n",
       "</table>\n",
       "</div>"
      ],
      "text/plain": [
       "   country_id iso_code  year  value\n",
       "0           4      AFG  2012    8.0\n",
       "1           8      ALB  2012   33.0\n",
       "2          12      DZA  2012   34.0\n",
       "3          24      AGO  2012   22.0\n",
       "4          32      ARG  2012   35.0"
      ]
     },
     "execution_count": 19,
     "metadata": {},
     "output_type": "execute_result"
    }
   ],
   "source": [
    "corruption.head()"
   ]
  },
  {
   "cell_type": "code",
   "execution_count": 20,
   "id": "dd1bcd9d",
   "metadata": {},
   "outputs": [
    {
     "data": {
      "text/html": [
       "<div>\n",
       "<style scoped>\n",
       "    .dataframe tbody tr th:only-of-type {\n",
       "        vertical-align: middle;\n",
       "    }\n",
       "\n",
       "    .dataframe tbody tr th {\n",
       "        vertical-align: top;\n",
       "    }\n",
       "\n",
       "    .dataframe thead th {\n",
       "        text-align: right;\n",
       "    }\n",
       "</style>\n",
       "<table border=\"1\" class=\"dataframe\">\n",
       "  <thead>\n",
       "    <tr style=\"text-align: right;\">\n",
       "      <th></th>\n",
       "      <th>country_id</th>\n",
       "      <th>year</th>\n",
       "      <th>trustworthiness</th>\n",
       "      <th>DI</th>\n",
       "    </tr>\n",
       "  </thead>\n",
       "  <tbody>\n",
       "    <tr>\n",
       "      <th>0</th>\n",
       "      <td>4</td>\n",
       "      <td>2017</td>\n",
       "      <td>0.385121</td>\n",
       "      <td>1.0</td>\n",
       "    </tr>\n",
       "    <tr>\n",
       "      <th>1</th>\n",
       "      <td>4</td>\n",
       "      <td>2018</td>\n",
       "      <td>0.519441</td>\n",
       "      <td>1.0</td>\n",
       "    </tr>\n",
       "    <tr>\n",
       "      <th>2</th>\n",
       "      <td>4</td>\n",
       "      <td>2019</td>\n",
       "      <td>0.529528</td>\n",
       "      <td>1.0</td>\n",
       "    </tr>\n",
       "    <tr>\n",
       "      <th>3</th>\n",
       "      <td>4</td>\n",
       "      <td>2020</td>\n",
       "      <td>0.277879</td>\n",
       "      <td>1.0</td>\n",
       "    </tr>\n",
       "    <tr>\n",
       "      <th>4</th>\n",
       "      <td>4</td>\n",
       "      <td>2021</td>\n",
       "      <td>0.275534</td>\n",
       "      <td>1.0</td>\n",
       "    </tr>\n",
       "  </tbody>\n",
       "</table>\n",
       "</div>"
      ],
      "text/plain": [
       "   country_id  year  trustworthiness   DI\n",
       "0           4  2017         0.385121  1.0\n",
       "1           4  2018         0.519441  1.0\n",
       "2           4  2019         0.529528  1.0\n",
       "3           4  2020         0.277879  1.0\n",
       "4           4  2021         0.275534  1.0"
      ]
     },
     "execution_count": 20,
     "metadata": {},
     "output_type": "execute_result"
    }
   ],
   "source": [
    "trust_discr_avg = trust_discr.groupby([\"country_id\", \"year\"])[[\"trustworthiness\", \"DI\"]].mean().reset_index()\n",
    "trust_discr_avg.head()"
   ]
  },
  {
   "cell_type": "code",
   "execution_count": 21,
   "id": "8a677133",
   "metadata": {},
   "outputs": [
    {
     "data": {
      "text/html": [
       "<div>\n",
       "<style scoped>\n",
       "    .dataframe tbody tr th:only-of-type {\n",
       "        vertical-align: middle;\n",
       "    }\n",
       "\n",
       "    .dataframe tbody tr th {\n",
       "        vertical-align: top;\n",
       "    }\n",
       "\n",
       "    .dataframe thead th {\n",
       "        text-align: right;\n",
       "    }\n",
       "</style>\n",
       "<table border=\"1\" class=\"dataframe\">\n",
       "  <thead>\n",
       "    <tr style=\"text-align: right;\">\n",
       "      <th></th>\n",
       "      <th>country_id</th>\n",
       "      <th>iso_code</th>\n",
       "      <th>year</th>\n",
       "      <th>value</th>\n",
       "      <th>trustworthiness</th>\n",
       "      <th>DI</th>\n",
       "    </tr>\n",
       "  </thead>\n",
       "  <tbody>\n",
       "    <tr>\n",
       "      <th>0</th>\n",
       "      <td>4</td>\n",
       "      <td>AFG</td>\n",
       "      <td>2017</td>\n",
       "      <td>15.0</td>\n",
       "      <td>0.385121</td>\n",
       "      <td>1.000000</td>\n",
       "    </tr>\n",
       "    <tr>\n",
       "      <th>1</th>\n",
       "      <td>8</td>\n",
       "      <td>ALB</td>\n",
       "      <td>2017</td>\n",
       "      <td>38.0</td>\n",
       "      <td>0.937757</td>\n",
       "      <td>0.856170</td>\n",
       "    </tr>\n",
       "    <tr>\n",
       "      <th>2</th>\n",
       "      <td>12</td>\n",
       "      <td>DZA</td>\n",
       "      <td>2017</td>\n",
       "      <td>33.0</td>\n",
       "      <td>0.763210</td>\n",
       "      <td>0.806892</td>\n",
       "    </tr>\n",
       "    <tr>\n",
       "      <th>3</th>\n",
       "      <td>24</td>\n",
       "      <td>AGO</td>\n",
       "      <td>2017</td>\n",
       "      <td>19.0</td>\n",
       "      <td>0.838180</td>\n",
       "      <td>1.000000</td>\n",
       "    </tr>\n",
       "    <tr>\n",
       "      <th>4</th>\n",
       "      <td>32</td>\n",
       "      <td>ARG</td>\n",
       "      <td>2017</td>\n",
       "      <td>39.0</td>\n",
       "      <td>0.976712</td>\n",
       "      <td>1.000000</td>\n",
       "    </tr>\n",
       "  </tbody>\n",
       "</table>\n",
       "</div>"
      ],
      "text/plain": [
       "   country_id iso_code  year  value  trustworthiness        DI\n",
       "0           4      AFG  2017   15.0         0.385121  1.000000\n",
       "1           8      ALB  2017   38.0         0.937757  0.856170\n",
       "2          12      DZA  2017   33.0         0.763210  0.806892\n",
       "3          24      AGO  2017   19.0         0.838180  1.000000\n",
       "4          32      ARG  2017   39.0         0.976712  1.000000"
      ]
     },
     "execution_count": 21,
     "metadata": {},
     "output_type": "execute_result"
    }
   ],
   "source": [
    "trust_discr_corrup = corruption.merge(trust_discr_avg, on=[\"country_id\", \"year\"], how=\"inner\")\n",
    "trust_discr_corrup.head()"
   ]
  },
  {
   "cell_type": "code",
   "execution_count": 22,
   "id": "f05d691b",
   "metadata": {},
   "outputs": [],
   "source": [
    "trust_discr_corrup.dropna(inplace=True)"
   ]
  },
  {
   "cell_type": "code",
   "execution_count": 23,
   "id": "e6dec734",
   "metadata": {},
   "outputs": [
    {
     "name": "stdout",
     "output_type": "stream",
     "text": [
      "SignificanceResult(statistic=0.5702511246543168, pvalue=1.3295499297918967e-88)\n",
      "SignificanceResult(statistic=-0.49056075714776826, pvalue=1.4154963245920621e-62)\n"
     ]
    }
   ],
   "source": [
    "print(spearmanr(trust_discr_corrup[\"trustworthiness\"], trust_discr_corrup[\"value\"]))\n",
    "print(spearmanr(trust_discr_corrup[\"DI\"], trust_discr_corrup[\"value\"]))"
   ]
  }
 ],
 "metadata": {
  "kernelspec": {
   "display_name": "thesis",
   "language": "python",
   "name": "python3"
  },
  "language_info": {
   "codemirror_mode": {
    "name": "ipython",
    "version": 3
   },
   "file_extension": ".py",
   "mimetype": "text/x-python",
   "name": "python",
   "nbconvert_exporter": "python",
   "pygments_lexer": "ipython3",
   "version": "3.9.21"
  }
 },
 "nbformat": 4,
 "nbformat_minor": 5
}
